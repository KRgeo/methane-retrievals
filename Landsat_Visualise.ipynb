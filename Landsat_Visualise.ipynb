{
 "cells": [
  {
   "cell_type": "markdown",
   "id": "3ec02552-d2bc-4d22-a01b-d4d0da8310da",
   "metadata": {},
   "source": [
    "# Looking at methane absorption bands in Landsat\n",
    "Using Geemaps tutorial for help\n",
    "02/02/2024"
   ]
  },
  {
   "cell_type": "code",
   "execution_count": null,
   "id": "26fc6c46-2016-48e8-926f-4a4688db52fd",
   "metadata": {},
   "outputs": [],
   "source": []
  },
  {
   "cell_type": "code",
   "execution_count": 1,
   "id": "6226f449-b19a-4d3e-a387-76ea20edfa0c",
   "metadata": {},
   "outputs": [
    {
     "data": {
      "text/plain": [
       "True"
      ]
     },
     "execution_count": 1,
     "metadata": {},
     "output_type": "execute_result"
    }
   ],
   "source": [
    "import ee\n",
    "ee.Authenticate()"
   ]
  },
  {
   "cell_type": "code",
   "execution_count": 2,
   "id": "d9ad3b1c-8be6-4f52-b9a8-9da6517dcc2c",
   "metadata": {},
   "outputs": [],
   "source": [
    "#Initialize earth engine for a new Python session\n",
    "\n",
    "ee.Initialize()"
   ]
  },
  {
   "cell_type": "code",
   "execution_count": null,
   "id": "11c81abe-5a8f-40c3-bc68-af6453b1b2ed",
   "metadata": {},
   "outputs": [],
   "source": []
  },
  {
   "cell_type": "code",
   "execution_count": 3,
   "id": "e5672006-4b82-4249-ab1d-258203de439f",
   "metadata": {},
   "outputs": [
    {
     "name": "stdout",
     "output_type": "stream",
     "text": [
      "Requirement already satisfied: geemap in c:\\users\\s1709837\\.conda\\envs\\gee\\lib\\site-packages (0.30.4)\n",
      "Requirement already satisfied: bqplot in c:\\users\\s1709837\\.conda\\envs\\gee\\lib\\site-packages (from geemap) (0.12.42)\n",
      "Requirement already satisfied: colour in c:\\users\\s1709837\\.conda\\envs\\gee\\lib\\site-packages (from geemap) (0.1.5)\n",
      "Requirement already satisfied: earthengine-api>=0.1.347 in c:\\users\\s1709837\\.conda\\envs\\gee\\lib\\site-packages (from geemap) (0.1.386)\n",
      "Requirement already satisfied: eerepr>=0.0.4 in c:\\users\\s1709837\\.conda\\envs\\gee\\lib\\site-packages (from geemap) (0.0.4)\n",
      "Requirement already satisfied: folium>=0.13.0 in c:\\users\\s1709837\\.conda\\envs\\gee\\lib\\site-packages (from geemap) (0.15.1)\n",
      "Requirement already satisfied: geocoder in c:\\users\\s1709837\\.conda\\envs\\gee\\lib\\site-packages (from geemap) (1.38.1)\n",
      "Requirement already satisfied: ipyevents in c:\\users\\s1709837\\.conda\\envs\\gee\\lib\\site-packages (from geemap) (2.0.2)\n",
      "Requirement already satisfied: ipyfilechooser>=0.6.0 in c:\\users\\s1709837\\.conda\\envs\\gee\\lib\\site-packages (from geemap) (0.6.0)\n",
      "Requirement already satisfied: ipyleaflet>=0.17.0 in c:\\users\\s1709837\\.conda\\envs\\gee\\lib\\site-packages (from geemap) (0.18.2)\n",
      "Requirement already satisfied: ipytree in c:\\users\\s1709837\\.conda\\envs\\gee\\lib\\site-packages (from geemap) (0.2.2)\n",
      "Requirement already satisfied: matplotlib in c:\\users\\s1709837\\.conda\\envs\\gee\\lib\\site-packages (from geemap) (3.8.2)\n",
      "Requirement already satisfied: numpy in c:\\users\\s1709837\\.conda\\envs\\gee\\lib\\site-packages (from geemap) (1.26.3)\n",
      "Requirement already satisfied: pandas in c:\\users\\s1709837\\.conda\\envs\\gee\\lib\\site-packages (from geemap) (2.2.0)\n",
      "Requirement already satisfied: plotly in c:\\users\\s1709837\\.conda\\envs\\gee\\lib\\site-packages (from geemap) (5.18.0)\n",
      "Requirement already satisfied: pyperclip in c:\\users\\s1709837\\.conda\\envs\\gee\\lib\\site-packages (from geemap) (1.8.2)\n",
      "Requirement already satisfied: pyshp>=2.1.3 in c:\\users\\s1709837\\.conda\\envs\\gee\\lib\\site-packages (from geemap) (2.3.1)\n",
      "Requirement already satisfied: python-box in c:\\users\\s1709837\\.conda\\envs\\gee\\lib\\site-packages (from geemap) (7.1.1)\n",
      "Requirement already satisfied: scooby in c:\\users\\s1709837\\.conda\\envs\\gee\\lib\\site-packages (from geemap) (0.9.2)\n",
      "Requirement already satisfied: google-cloud-storage in c:\\users\\s1709837\\.conda\\envs\\gee\\lib\\site-packages (from earthengine-api>=0.1.347->geemap) (2.14.0)\n",
      "Requirement already satisfied: google-api-python-client>=1.12.1 in c:\\users\\s1709837\\.conda\\envs\\gee\\lib\\site-packages (from earthengine-api>=0.1.347->geemap) (2.115.0)\n",
      "Requirement already satisfied: google-auth>=1.4.1 in c:\\users\\s1709837\\.conda\\envs\\gee\\lib\\site-packages (from earthengine-api>=0.1.347->geemap) (2.27.0)\n",
      "Requirement already satisfied: google-auth-httplib2>=0.0.3 in c:\\users\\s1709837\\.conda\\envs\\gee\\lib\\site-packages (from earthengine-api>=0.1.347->geemap) (0.2.0)\n",
      "Requirement already satisfied: httplib2<1dev,>=0.9.2 in c:\\users\\s1709837\\.conda\\envs\\gee\\lib\\site-packages (from earthengine-api>=0.1.347->geemap) (0.22.0)\n",
      "Requirement already satisfied: requests in c:\\users\\s1709837\\.conda\\envs\\gee\\lib\\site-packages (from earthengine-api>=0.1.347->geemap) (2.31.0)\n",
      "Requirement already satisfied: branca>=0.6.0 in c:\\users\\s1709837\\.conda\\envs\\gee\\lib\\site-packages (from folium>=0.13.0->geemap) (0.7.0)\n",
      "Requirement already satisfied: jinja2>=2.9 in c:\\users\\s1709837\\.conda\\envs\\gee\\lib\\site-packages (from folium>=0.13.0->geemap) (3.1.3)\n",
      "Requirement already satisfied: xyzservices in c:\\users\\s1709837\\.conda\\envs\\gee\\lib\\site-packages (from folium>=0.13.0->geemap) (2023.10.1)\n",
      "Requirement already satisfied: ipywidgets in c:\\users\\s1709837\\.conda\\envs\\gee\\lib\\site-packages (from ipyfilechooser>=0.6.0->geemap) (7.6.5)\n",
      "Requirement already satisfied: traittypes<3,>=0.2.1 in c:\\users\\s1709837\\.conda\\envs\\gee\\lib\\site-packages (from ipyleaflet>=0.17.0->geemap) (0.2.1)\n",
      "Requirement already satisfied: traitlets>=4.3.0 in c:\\users\\s1709837\\.conda\\envs\\gee\\lib\\site-packages (from bqplot->geemap) (5.14.1)\n",
      "Requirement already satisfied: python-dateutil>=2.8.2 in c:\\users\\s1709837\\.conda\\envs\\gee\\lib\\site-packages (from pandas->geemap) (2.8.2)\n",
      "Requirement already satisfied: pytz>=2020.1 in c:\\users\\s1709837\\.conda\\envs\\gee\\lib\\site-packages (from pandas->geemap) (2023.3.post1)\n",
      "Requirement already satisfied: tzdata>=2022.7 in c:\\users\\s1709837\\.conda\\envs\\gee\\lib\\site-packages (from pandas->geemap) (2023.4)\n",
      "Requirement already satisfied: ratelim in c:\\users\\s1709837\\.conda\\envs\\gee\\lib\\site-packages (from geocoder->geemap) (0.1.6)\n",
      "Requirement already satisfied: click in c:\\users\\s1709837\\.conda\\envs\\gee\\lib\\site-packages (from geocoder->geemap) (8.1.7)\n",
      "Requirement already satisfied: six in c:\\users\\s1709837\\.conda\\envs\\gee\\lib\\site-packages (from geocoder->geemap) (1.16.0)\n",
      "Requirement already satisfied: future in c:\\users\\s1709837\\.conda\\envs\\gee\\lib\\site-packages (from geocoder->geemap) (0.18.3)\n",
      "Requirement already satisfied: contourpy>=1.0.1 in c:\\users\\s1709837\\.conda\\envs\\gee\\lib\\site-packages (from matplotlib->geemap) (1.2.0)\n",
      "Requirement already satisfied: cycler>=0.10 in c:\\users\\s1709837\\.conda\\envs\\gee\\lib\\site-packages (from matplotlib->geemap) (0.12.1)\n",
      "Requirement already satisfied: fonttools>=4.22.0 in c:\\users\\s1709837\\.conda\\envs\\gee\\lib\\site-packages (from matplotlib->geemap) (4.47.2)\n",
      "Requirement already satisfied: kiwisolver>=1.3.1 in c:\\users\\s1709837\\.conda\\envs\\gee\\lib\\site-packages (from matplotlib->geemap) (1.4.5)\n",
      "Requirement already satisfied: packaging>=20.0 in c:\\users\\s1709837\\.conda\\envs\\gee\\lib\\site-packages (from matplotlib->geemap) (23.2)\n",
      "Requirement already satisfied: pillow>=8 in c:\\users\\s1709837\\.conda\\envs\\gee\\lib\\site-packages (from matplotlib->geemap) (10.2.0)\n",
      "Requirement already satisfied: pyparsing>=2.3.1 in c:\\users\\s1709837\\.conda\\envs\\gee\\lib\\site-packages (from matplotlib->geemap) (3.1.1)\n",
      "Requirement already satisfied: tenacity>=6.2.0 in c:\\users\\s1709837\\.conda\\envs\\gee\\lib\\site-packages (from plotly->geemap) (8.2.3)\n",
      "Requirement already satisfied: google-api-core!=2.0.*,!=2.1.*,!=2.2.*,!=2.3.0,<3.0.0.dev0,>=1.31.5 in c:\\users\\s1709837\\.conda\\envs\\gee\\lib\\site-packages (from google-api-python-client>=1.12.1->earthengine-api>=0.1.347->geemap) (2.15.0)\n",
      "Requirement already satisfied: uritemplate<5,>=3.0.1 in c:\\users\\s1709837\\.conda\\envs\\gee\\lib\\site-packages (from google-api-python-client>=1.12.1->earthengine-api>=0.1.347->geemap) (4.1.1)\n",
      "Requirement already satisfied: cachetools<6.0,>=2.0.0 in c:\\users\\s1709837\\.conda\\envs\\gee\\lib\\site-packages (from google-auth>=1.4.1->earthengine-api>=0.1.347->geemap) (5.3.2)\n",
      "Requirement already satisfied: pyasn1-modules>=0.2.1 in c:\\users\\s1709837\\.conda\\envs\\gee\\lib\\site-packages (from google-auth>=1.4.1->earthengine-api>=0.1.347->geemap) (0.3.0)\n",
      "Requirement already satisfied: rsa<5,>=3.1.4 in c:\\users\\s1709837\\.conda\\envs\\gee\\lib\\site-packages (from google-auth>=1.4.1->earthengine-api>=0.1.347->geemap) (4.9)\n",
      "Requirement already satisfied: ipykernel>=4.5.1 in c:\\users\\s1709837\\.conda\\envs\\gee\\lib\\site-packages (from ipywidgets->ipyfilechooser>=0.6.0->geemap) (6.29.0)\n",
      "Requirement already satisfied: ipython-genutils~=0.2.0 in c:\\users\\s1709837\\.conda\\envs\\gee\\lib\\site-packages (from ipywidgets->ipyfilechooser>=0.6.0->geemap) (0.2.0)\n",
      "Requirement already satisfied: nbformat>=4.2.0 in c:\\users\\s1709837\\.conda\\envs\\gee\\lib\\site-packages (from ipywidgets->ipyfilechooser>=0.6.0->geemap) (5.9.2)\n",
      "Requirement already satisfied: widgetsnbextension~=3.5.0 in c:\\users\\s1709837\\.conda\\envs\\gee\\lib\\site-packages (from ipywidgets->ipyfilechooser>=0.6.0->geemap) (3.5.1)\n",
      "Requirement already satisfied: ipython>=4.0.0 in c:\\users\\s1709837\\.conda\\envs\\gee\\lib\\site-packages (from ipywidgets->ipyfilechooser>=0.6.0->geemap) (8.20.0)\n",
      "Requirement already satisfied: jupyterlab-widgets>=1.0.0 in c:\\users\\s1709837\\.conda\\envs\\gee\\lib\\site-packages (from ipywidgets->ipyfilechooser>=0.6.0->geemap) (3.0.9)\n",
      "Requirement already satisfied: MarkupSafe>=2.0 in c:\\users\\s1709837\\.conda\\envs\\gee\\lib\\site-packages (from jinja2>=2.9->folium>=0.13.0->geemap) (2.1.4)\n",
      "Requirement already satisfied: colorama in c:\\users\\s1709837\\.conda\\envs\\gee\\lib\\site-packages (from click->geocoder->geemap) (0.4.6)\n",
      "Requirement already satisfied: google-cloud-core<3.0dev,>=2.3.0 in c:\\users\\s1709837\\.conda\\envs\\gee\\lib\\site-packages (from google-cloud-storage->earthengine-api>=0.1.347->geemap) (2.4.1)\n",
      "Requirement already satisfied: google-resumable-media>=2.6.0 in c:\\users\\s1709837\\.conda\\envs\\gee\\lib\\site-packages (from google-cloud-storage->earthengine-api>=0.1.347->geemap) (2.7.0)\n",
      "Requirement already satisfied: google-crc32c<2.0dev,>=1.0 in c:\\users\\s1709837\\.conda\\envs\\gee\\lib\\site-packages (from google-cloud-storage->earthengine-api>=0.1.347->geemap) (1.1.2)\n",
      "Requirement already satisfied: charset-normalizer<4,>=2 in c:\\users\\s1709837\\.conda\\envs\\gee\\lib\\site-packages (from requests->earthengine-api>=0.1.347->geemap) (3.3.2)\n",
      "Requirement already satisfied: idna<4,>=2.5 in c:\\users\\s1709837\\.conda\\envs\\gee\\lib\\site-packages (from requests->earthengine-api>=0.1.347->geemap) (3.6)\n",
      "Requirement already satisfied: urllib3<3,>=1.21.1 in c:\\users\\s1709837\\.conda\\envs\\gee\\lib\\site-packages (from requests->earthengine-api>=0.1.347->geemap) (2.1.0)\n",
      "Requirement already satisfied: certifi>=2017.4.17 in c:\\users\\s1709837\\.conda\\envs\\gee\\lib\\site-packages (from requests->earthengine-api>=0.1.347->geemap) (2023.11.17)\n",
      "Requirement already satisfied: decorator in c:\\users\\s1709837\\.conda\\envs\\gee\\lib\\site-packages (from ratelim->geocoder->geemap) (5.1.1)\n",
      "Requirement already satisfied: googleapis-common-protos<2.0.dev0,>=1.56.2 in c:\\users\\s1709837\\.conda\\envs\\gee\\lib\\site-packages (from google-api-core!=2.0.*,!=2.1.*,!=2.2.*,!=2.3.0,<3.0.0.dev0,>=1.31.5->google-api-python-client>=1.12.1->earthengine-api>=0.1.347->geemap) (1.62.0)\n",
      "Requirement already satisfied: protobuf!=3.20.0,!=3.20.1,!=4.21.0,!=4.21.1,!=4.21.2,!=4.21.3,!=4.21.4,!=4.21.5,<5.0.0.dev0,>=3.19.5 in c:\\users\\s1709837\\.conda\\envs\\gee\\lib\\site-packages (from google-api-core!=2.0.*,!=2.1.*,!=2.2.*,!=2.3.0,<3.0.0.dev0,>=1.31.5->google-api-python-client>=1.12.1->earthengine-api>=0.1.347->geemap) (3.20.3)\n",
      "Requirement already satisfied: cffi>=1.0.0 in c:\\users\\s1709837\\.conda\\envs\\gee\\lib\\site-packages (from google-crc32c<2.0dev,>=1.0->google-cloud-storage->earthengine-api>=0.1.347->geemap) (1.16.0)\n",
      "Requirement already satisfied: comm>=0.1.1 in c:\\users\\s1709837\\.conda\\envs\\gee\\lib\\site-packages (from ipykernel>=4.5.1->ipywidgets->ipyfilechooser>=0.6.0->geemap) (0.2.1)\n",
      "Requirement already satisfied: debugpy>=1.6.5 in c:\\users\\s1709837\\.conda\\envs\\gee\\lib\\site-packages (from ipykernel>=4.5.1->ipywidgets->ipyfilechooser>=0.6.0->geemap) (1.8.0)\n",
      "Requirement already satisfied: jupyter-client>=6.1.12 in c:\\users\\s1709837\\.conda\\envs\\gee\\lib\\site-packages (from ipykernel>=4.5.1->ipywidgets->ipyfilechooser>=0.6.0->geemap) (8.6.0)\n",
      "Requirement already satisfied: jupyter-core!=5.0.*,>=4.12 in c:\\users\\s1709837\\.conda\\envs\\gee\\lib\\site-packages (from ipykernel>=4.5.1->ipywidgets->ipyfilechooser>=0.6.0->geemap) (5.7.1)\n",
      "Requirement already satisfied: matplotlib-inline>=0.1 in c:\\users\\s1709837\\.conda\\envs\\gee\\lib\\site-packages (from ipykernel>=4.5.1->ipywidgets->ipyfilechooser>=0.6.0->geemap) (0.1.6)\n",
      "Requirement already satisfied: nest-asyncio in c:\\users\\s1709837\\.conda\\envs\\gee\\lib\\site-packages (from ipykernel>=4.5.1->ipywidgets->ipyfilechooser>=0.6.0->geemap) (1.6.0)\n",
      "Requirement already satisfied: psutil in c:\\users\\s1709837\\.conda\\envs\\gee\\lib\\site-packages (from ipykernel>=4.5.1->ipywidgets->ipyfilechooser>=0.6.0->geemap) (5.9.8)\n",
      "Requirement already satisfied: pyzmq>=24 in c:\\users\\s1709837\\.conda\\envs\\gee\\lib\\site-packages (from ipykernel>=4.5.1->ipywidgets->ipyfilechooser>=0.6.0->geemap) (25.1.2)\n",
      "Requirement already satisfied: tornado>=6.1 in c:\\users\\s1709837\\.conda\\envs\\gee\\lib\\site-packages (from ipykernel>=4.5.1->ipywidgets->ipyfilechooser>=0.6.0->geemap) (6.3.3)\n",
      "Requirement already satisfied: jedi>=0.16 in c:\\users\\s1709837\\.conda\\envs\\gee\\lib\\site-packages (from ipython>=4.0.0->ipywidgets->ipyfilechooser>=0.6.0->geemap) (0.19.1)\n",
      "Requirement already satisfied: prompt-toolkit<3.1.0,>=3.0.41 in c:\\users\\s1709837\\.conda\\envs\\gee\\lib\\site-packages (from ipython>=4.0.0->ipywidgets->ipyfilechooser>=0.6.0->geemap) (3.0.42)\n",
      "Requirement already satisfied: pygments>=2.4.0 in c:\\users\\s1709837\\.conda\\envs\\gee\\lib\\site-packages (from ipython>=4.0.0->ipywidgets->ipyfilechooser>=0.6.0->geemap) (2.17.2)\n",
      "Requirement already satisfied: stack-data in c:\\users\\s1709837\\.conda\\envs\\gee\\lib\\site-packages (from ipython>=4.0.0->ipywidgets->ipyfilechooser>=0.6.0->geemap) (0.6.2)\n",
      "Requirement already satisfied: fastjsonschema in c:\\users\\s1709837\\.conda\\envs\\gee\\lib\\site-packages (from nbformat>=4.2.0->ipywidgets->ipyfilechooser>=0.6.0->geemap) (2.19.1)\n",
      "Requirement already satisfied: jsonschema>=2.6 in c:\\users\\s1709837\\.conda\\envs\\gee\\lib\\site-packages (from nbformat>=4.2.0->ipywidgets->ipyfilechooser>=0.6.0->geemap) (4.21.1)\n",
      "Requirement already satisfied: pyasn1<0.6.0,>=0.4.6 in c:\\users\\s1709837\\.conda\\envs\\gee\\lib\\site-packages (from pyasn1-modules>=0.2.1->google-auth>=1.4.1->earthengine-api>=0.1.347->geemap) (0.5.1)\n",
      "Requirement already satisfied: notebook>=4.4.1 in c:\\users\\s1709837\\.conda\\envs\\gee\\lib\\site-packages (from widgetsnbextension~=3.5.0->ipywidgets->ipyfilechooser>=0.6.0->geemap) (7.0.7)\n",
      "Requirement already satisfied: pycparser in c:\\users\\s1709837\\.conda\\envs\\gee\\lib\\site-packages (from cffi>=1.0.0->google-crc32c<2.0dev,>=1.0->google-cloud-storage->earthengine-api>=0.1.347->geemap) (2.21)\n",
      "Requirement already satisfied: parso<0.9.0,>=0.8.3 in c:\\users\\s1709837\\.conda\\envs\\gee\\lib\\site-packages (from jedi>=0.16->ipython>=4.0.0->ipywidgets->ipyfilechooser>=0.6.0->geemap) (0.8.3)\n",
      "Requirement already satisfied: attrs>=22.2.0 in c:\\users\\s1709837\\.conda\\envs\\gee\\lib\\site-packages (from jsonschema>=2.6->nbformat>=4.2.0->ipywidgets->ipyfilechooser>=0.6.0->geemap) (23.2.0)\n",
      "Requirement already satisfied: jsonschema-specifications>=2023.03.6 in c:\\users\\s1709837\\.conda\\envs\\gee\\lib\\site-packages (from jsonschema>=2.6->nbformat>=4.2.0->ipywidgets->ipyfilechooser>=0.6.0->geemap) (2023.12.1)\n",
      "Requirement already satisfied: referencing>=0.28.4 in c:\\users\\s1709837\\.conda\\envs\\gee\\lib\\site-packages (from jsonschema>=2.6->nbformat>=4.2.0->ipywidgets->ipyfilechooser>=0.6.0->geemap) (0.32.1)\n",
      "Requirement already satisfied: rpds-py>=0.7.1 in c:\\users\\s1709837\\.conda\\envs\\gee\\lib\\site-packages (from jsonschema>=2.6->nbformat>=4.2.0->ipywidgets->ipyfilechooser>=0.6.0->geemap) (0.17.1)\n",
      "Requirement already satisfied: platformdirs>=2.5 in c:\\users\\s1709837\\.conda\\envs\\gee\\lib\\site-packages (from jupyter-core!=5.0.*,>=4.12->ipykernel>=4.5.1->ipywidgets->ipyfilechooser>=0.6.0->geemap) (4.1.0)\n",
      "Requirement already satisfied: pywin32>=300 in c:\\users\\s1709837\\.conda\\envs\\gee\\lib\\site-packages (from jupyter-core!=5.0.*,>=4.12->ipykernel>=4.5.1->ipywidgets->ipyfilechooser>=0.6.0->geemap) (306)\n",
      "Requirement already satisfied: jupyter-server<3,>=2.4.0 in c:\\users\\s1709837\\.conda\\envs\\gee\\lib\\site-packages (from notebook>=4.4.1->widgetsnbextension~=3.5.0->ipywidgets->ipyfilechooser>=0.6.0->geemap) (2.12.5)\n",
      "Requirement already satisfied: jupyterlab-server<3,>=2.22.1 in c:\\users\\s1709837\\.conda\\envs\\gee\\lib\\site-packages (from notebook>=4.4.1->widgetsnbextension~=3.5.0->ipywidgets->ipyfilechooser>=0.6.0->geemap) (2.25.2)\n",
      "Requirement already satisfied: jupyterlab<5,>=4.0.2 in c:\\users\\s1709837\\.conda\\envs\\gee\\lib\\site-packages (from notebook>=4.4.1->widgetsnbextension~=3.5.0->ipywidgets->ipyfilechooser>=0.6.0->geemap) (4.0.11)\n",
      "Requirement already satisfied: notebook-shim<0.3,>=0.2 in c:\\users\\s1709837\\.conda\\envs\\gee\\lib\\site-packages (from notebook>=4.4.1->widgetsnbextension~=3.5.0->ipywidgets->ipyfilechooser>=0.6.0->geemap) (0.2.3)\n",
      "Requirement already satisfied: wcwidth in c:\\users\\s1709837\\.conda\\envs\\gee\\lib\\site-packages (from prompt-toolkit<3.1.0,>=3.0.41->ipython>=4.0.0->ipywidgets->ipyfilechooser>=0.6.0->geemap) (0.2.13)\n",
      "Requirement already satisfied: executing>=1.2.0 in c:\\users\\s1709837\\.conda\\envs\\gee\\lib\\site-packages (from stack-data->ipython>=4.0.0->ipywidgets->ipyfilechooser>=0.6.0->geemap) (2.0.1)\n",
      "Requirement already satisfied: asttokens>=2.1.0 in c:\\users\\s1709837\\.conda\\envs\\gee\\lib\\site-packages (from stack-data->ipython>=4.0.0->ipywidgets->ipyfilechooser>=0.6.0->geemap) (2.4.1)\n",
      "Requirement already satisfied: pure-eval in c:\\users\\s1709837\\.conda\\envs\\gee\\lib\\site-packages (from stack-data->ipython>=4.0.0->ipywidgets->ipyfilechooser>=0.6.0->geemap) (0.2.2)\n",
      "Requirement already satisfied: anyio>=3.1.0 in c:\\users\\s1709837\\.conda\\envs\\gee\\lib\\site-packages (from jupyter-server<3,>=2.4.0->notebook>=4.4.1->widgetsnbextension~=3.5.0->ipywidgets->ipyfilechooser>=0.6.0->geemap) (4.2.0)\n",
      "Requirement already satisfied: argon2-cffi in c:\\users\\s1709837\\.conda\\envs\\gee\\lib\\site-packages (from jupyter-server<3,>=2.4.0->notebook>=4.4.1->widgetsnbextension~=3.5.0->ipywidgets->ipyfilechooser>=0.6.0->geemap) (23.1.0)\n",
      "Requirement already satisfied: jupyter-events>=0.9.0 in c:\\users\\s1709837\\.conda\\envs\\gee\\lib\\site-packages (from jupyter-server<3,>=2.4.0->notebook>=4.4.1->widgetsnbextension~=3.5.0->ipywidgets->ipyfilechooser>=0.6.0->geemap) (0.9.0)\n",
      "Requirement already satisfied: jupyter-server-terminals in c:\\users\\s1709837\\.conda\\envs\\gee\\lib\\site-packages (from jupyter-server<3,>=2.4.0->notebook>=4.4.1->widgetsnbextension~=3.5.0->ipywidgets->ipyfilechooser>=0.6.0->geemap) (0.5.2)\n",
      "Requirement already satisfied: nbconvert>=6.4.4 in c:\\users\\s1709837\\.conda\\envs\\gee\\lib\\site-packages (from jupyter-server<3,>=2.4.0->notebook>=4.4.1->widgetsnbextension~=3.5.0->ipywidgets->ipyfilechooser>=0.6.0->geemap) (7.14.2)\n",
      "Requirement already satisfied: overrides in c:\\users\\s1709837\\.conda\\envs\\gee\\lib\\site-packages (from jupyter-server<3,>=2.4.0->notebook>=4.4.1->widgetsnbextension~=3.5.0->ipywidgets->ipyfilechooser>=0.6.0->geemap) (7.7.0)\n",
      "Requirement already satisfied: prometheus-client in c:\\users\\s1709837\\.conda\\envs\\gee\\lib\\site-packages (from jupyter-server<3,>=2.4.0->notebook>=4.4.1->widgetsnbextension~=3.5.0->ipywidgets->ipyfilechooser>=0.6.0->geemap) (0.19.0)\n",
      "Requirement already satisfied: pywinpty in c:\\users\\s1709837\\.conda\\envs\\gee\\lib\\site-packages (from jupyter-server<3,>=2.4.0->notebook>=4.4.1->widgetsnbextension~=3.5.0->ipywidgets->ipyfilechooser>=0.6.0->geemap) (2.0.12)\n",
      "Requirement already satisfied: send2trash>=1.8.2 in c:\\users\\s1709837\\.conda\\envs\\gee\\lib\\site-packages (from jupyter-server<3,>=2.4.0->notebook>=4.4.1->widgetsnbextension~=3.5.0->ipywidgets->ipyfilechooser>=0.6.0->geemap) (1.8.2)\n",
      "Requirement already satisfied: terminado>=0.8.3 in c:\\users\\s1709837\\.conda\\envs\\gee\\lib\\site-packages (from jupyter-server<3,>=2.4.0->notebook>=4.4.1->widgetsnbextension~=3.5.0->ipywidgets->ipyfilechooser>=0.6.0->geemap) (0.18.0)\n",
      "Requirement already satisfied: websocket-client in c:\\users\\s1709837\\.conda\\envs\\gee\\lib\\site-packages (from jupyter-server<3,>=2.4.0->notebook>=4.4.1->widgetsnbextension~=3.5.0->ipywidgets->ipyfilechooser>=0.6.0->geemap) (1.7.0)\n",
      "Requirement already satisfied: async-lru>=1.0.0 in c:\\users\\s1709837\\.conda\\envs\\gee\\lib\\site-packages (from jupyterlab<5,>=4.0.2->notebook>=4.4.1->widgetsnbextension~=3.5.0->ipywidgets->ipyfilechooser>=0.6.0->geemap) (2.0.4)\n",
      "Requirement already satisfied: jupyter-lsp>=2.0.0 in c:\\users\\s1709837\\.conda\\envs\\gee\\lib\\site-packages (from jupyterlab<5,>=4.0.2->notebook>=4.4.1->widgetsnbextension~=3.5.0->ipywidgets->ipyfilechooser>=0.6.0->geemap) (2.2.2)\n",
      "Requirement already satisfied: babel>=2.10 in c:\\users\\s1709837\\.conda\\envs\\gee\\lib\\site-packages (from jupyterlab-server<3,>=2.22.1->notebook>=4.4.1->widgetsnbextension~=3.5.0->ipywidgets->ipyfilechooser>=0.6.0->geemap) (2.14.0)\n",
      "Requirement already satisfied: json5>=0.9.0 in c:\\users\\s1709837\\.conda\\envs\\gee\\lib\\site-packages (from jupyterlab-server<3,>=2.22.1->notebook>=4.4.1->widgetsnbextension~=3.5.0->ipywidgets->ipyfilechooser>=0.6.0->geemap) (0.9.14)\n",
      "Requirement already satisfied: sniffio>=1.1 in c:\\users\\s1709837\\.conda\\envs\\gee\\lib\\site-packages (from anyio>=3.1.0->jupyter-server<3,>=2.4.0->notebook>=4.4.1->widgetsnbextension~=3.5.0->ipywidgets->ipyfilechooser>=0.6.0->geemap) (1.3.0)\n",
      "Requirement already satisfied: python-json-logger>=2.0.4 in c:\\users\\s1709837\\.conda\\envs\\gee\\lib\\site-packages (from jupyter-events>=0.9.0->jupyter-server<3,>=2.4.0->notebook>=4.4.1->widgetsnbextension~=3.5.0->ipywidgets->ipyfilechooser>=0.6.0->geemap) (2.0.7)\n",
      "Requirement already satisfied: pyyaml>=5.3 in c:\\users\\s1709837\\.conda\\envs\\gee\\lib\\site-packages (from jupyter-events>=0.9.0->jupyter-server<3,>=2.4.0->notebook>=4.4.1->widgetsnbextension~=3.5.0->ipywidgets->ipyfilechooser>=0.6.0->geemap) (6.0.1)\n",
      "Requirement already satisfied: rfc3339-validator in c:\\users\\s1709837\\.conda\\envs\\gee\\lib\\site-packages (from jupyter-events>=0.9.0->jupyter-server<3,>=2.4.0->notebook>=4.4.1->widgetsnbextension~=3.5.0->ipywidgets->ipyfilechooser>=0.6.0->geemap) (0.1.4)\n",
      "Requirement already satisfied: rfc3986-validator>=0.1.1 in c:\\users\\s1709837\\.conda\\envs\\gee\\lib\\site-packages (from jupyter-events>=0.9.0->jupyter-server<3,>=2.4.0->notebook>=4.4.1->widgetsnbextension~=3.5.0->ipywidgets->ipyfilechooser>=0.6.0->geemap) (0.1.1)\n",
      "Requirement already satisfied: beautifulsoup4 in c:\\users\\s1709837\\.conda\\envs\\gee\\lib\\site-packages (from nbconvert>=6.4.4->jupyter-server<3,>=2.4.0->notebook>=4.4.1->widgetsnbextension~=3.5.0->ipywidgets->ipyfilechooser>=0.6.0->geemap) (4.12.3)\n",
      "Requirement already satisfied: bleach!=5.0.0 in c:\\users\\s1709837\\.conda\\envs\\gee\\lib\\site-packages (from nbconvert>=6.4.4->jupyter-server<3,>=2.4.0->notebook>=4.4.1->widgetsnbextension~=3.5.0->ipywidgets->ipyfilechooser>=0.6.0->geemap) (6.1.0)\n",
      "Requirement already satisfied: defusedxml in c:\\users\\s1709837\\.conda\\envs\\gee\\lib\\site-packages (from nbconvert>=6.4.4->jupyter-server<3,>=2.4.0->notebook>=4.4.1->widgetsnbextension~=3.5.0->ipywidgets->ipyfilechooser>=0.6.0->geemap) (0.7.1)\n",
      "Requirement already satisfied: jupyterlab-pygments in c:\\users\\s1709837\\.conda\\envs\\gee\\lib\\site-packages (from nbconvert>=6.4.4->jupyter-server<3,>=2.4.0->notebook>=4.4.1->widgetsnbextension~=3.5.0->ipywidgets->ipyfilechooser>=0.6.0->geemap) (0.3.0)\n",
      "Requirement already satisfied: mistune<4,>=2.0.3 in c:\\users\\s1709837\\.conda\\envs\\gee\\lib\\site-packages (from nbconvert>=6.4.4->jupyter-server<3,>=2.4.0->notebook>=4.4.1->widgetsnbextension~=3.5.0->ipywidgets->ipyfilechooser>=0.6.0->geemap) (3.0.2)\n",
      "Requirement already satisfied: nbclient>=0.5.0 in c:\\users\\s1709837\\.conda\\envs\\gee\\lib\\site-packages (from nbconvert>=6.4.4->jupyter-server<3,>=2.4.0->notebook>=4.4.1->widgetsnbextension~=3.5.0->ipywidgets->ipyfilechooser>=0.6.0->geemap) (0.8.0)\n",
      "Requirement already satisfied: pandocfilters>=1.4.1 in c:\\users\\s1709837\\.conda\\envs\\gee\\lib\\site-packages (from nbconvert>=6.4.4->jupyter-server<3,>=2.4.0->notebook>=4.4.1->widgetsnbextension~=3.5.0->ipywidgets->ipyfilechooser>=0.6.0->geemap) (1.5.0)\n",
      "Requirement already satisfied: tinycss2 in c:\\users\\s1709837\\.conda\\envs\\gee\\lib\\site-packages (from nbconvert>=6.4.4->jupyter-server<3,>=2.4.0->notebook>=4.4.1->widgetsnbextension~=3.5.0->ipywidgets->ipyfilechooser>=0.6.0->geemap) (1.2.1)\n",
      "Requirement already satisfied: argon2-cffi-bindings in c:\\users\\s1709837\\.conda\\envs\\gee\\lib\\site-packages (from argon2-cffi->jupyter-server<3,>=2.4.0->notebook>=4.4.1->widgetsnbextension~=3.5.0->ipywidgets->ipyfilechooser>=0.6.0->geemap) (21.2.0)\n",
      "Requirement already satisfied: webencodings in c:\\users\\s1709837\\.conda\\envs\\gee\\lib\\site-packages (from bleach!=5.0.0->nbconvert>=6.4.4->jupyter-server<3,>=2.4.0->notebook>=4.4.1->widgetsnbextension~=3.5.0->ipywidgets->ipyfilechooser>=0.6.0->geemap) (0.5.1)\n",
      "Requirement already satisfied: fqdn in c:\\users\\s1709837\\.conda\\envs\\gee\\lib\\site-packages (from jsonschema[format-nongpl]>=4.18.0->jupyter-events>=0.9.0->jupyter-server<3,>=2.4.0->notebook>=4.4.1->widgetsnbextension~=3.5.0->ipywidgets->ipyfilechooser>=0.6.0->geemap) (1.5.1)\n",
      "Requirement already satisfied: isoduration in c:\\users\\s1709837\\.conda\\envs\\gee\\lib\\site-packages (from jsonschema[format-nongpl]>=4.18.0->jupyter-events>=0.9.0->jupyter-server<3,>=2.4.0->notebook>=4.4.1->widgetsnbextension~=3.5.0->ipywidgets->ipyfilechooser>=0.6.0->geemap) (20.11.0)\n",
      "Requirement already satisfied: jsonpointer>1.13 in c:\\users\\s1709837\\.conda\\envs\\gee\\lib\\site-packages (from jsonschema[format-nongpl]>=4.18.0->jupyter-events>=0.9.0->jupyter-server<3,>=2.4.0->notebook>=4.4.1->widgetsnbextension~=3.5.0->ipywidgets->ipyfilechooser>=0.6.0->geemap) (2.4)\n",
      "Requirement already satisfied: uri-template in c:\\users\\s1709837\\.conda\\envs\\gee\\lib\\site-packages (from jsonschema[format-nongpl]>=4.18.0->jupyter-events>=0.9.0->jupyter-server<3,>=2.4.0->notebook>=4.4.1->widgetsnbextension~=3.5.0->ipywidgets->ipyfilechooser>=0.6.0->geemap) (1.3.0)\n",
      "Requirement already satisfied: webcolors>=1.11 in c:\\users\\s1709837\\.conda\\envs\\gee\\lib\\site-packages (from jsonschema[format-nongpl]>=4.18.0->jupyter-events>=0.9.0->jupyter-server<3,>=2.4.0->notebook>=4.4.1->widgetsnbextension~=3.5.0->ipywidgets->ipyfilechooser>=0.6.0->geemap) (1.13)\n",
      "Requirement already satisfied: soupsieve>1.2 in c:\\users\\s1709837\\.conda\\envs\\gee\\lib\\site-packages (from beautifulsoup4->nbconvert>=6.4.4->jupyter-server<3,>=2.4.0->notebook>=4.4.1->widgetsnbextension~=3.5.0->ipywidgets->ipyfilechooser>=0.6.0->geemap) (2.5)\n",
      "Requirement already satisfied: arrow>=0.15.0 in c:\\users\\s1709837\\.conda\\envs\\gee\\lib\\site-packages (from isoduration->jsonschema[format-nongpl]>=4.18.0->jupyter-events>=0.9.0->jupyter-server<3,>=2.4.0->notebook>=4.4.1->widgetsnbextension~=3.5.0->ipywidgets->ipyfilechooser>=0.6.0->geemap) (1.3.0)\n",
      "Requirement already satisfied: types-python-dateutil>=2.8.10 in c:\\users\\s1709837\\.conda\\envs\\gee\\lib\\site-packages (from arrow>=0.15.0->isoduration->jsonschema[format-nongpl]>=4.18.0->jupyter-events>=0.9.0->jupyter-server<3,>=2.4.0->notebook>=4.4.1->widgetsnbextension~=3.5.0->ipywidgets->ipyfilechooser>=0.6.0->geemap) (2.8.19.20240106)\n",
      "Note: you may need to restart the kernel to use updated packages.\n"
     ]
    }
   ],
   "source": [
    " %pip install geemap"
   ]
  },
  {
   "cell_type": "code",
   "execution_count": 4,
   "id": "6c01ae8f-ac5d-4df4-8f1d-44f0440704f7",
   "metadata": {},
   "outputs": [],
   "source": [
    "import geemap"
   ]
  },
  {
   "cell_type": "code",
   "execution_count": 5,
   "id": "e5c60cc2-17a1-4521-9b5e-fa3d0272bd59",
   "metadata": {},
   "outputs": [
    {
     "data": {
      "text/html": [
       "\n",
       "            <style>\n",
       "                .geemap-dark {\n",
       "                    --jp-widgets-color: white;\n",
       "                    --jp-widgets-label-color: white;\n",
       "                    --jp-ui-font-color1: white;\n",
       "                    --jp-layout-color2: #454545;\n",
       "                    background-color: #383838;\n",
       "                }\n",
       "                    \n",
       "                .geemap-dark .jupyter-button {\n",
       "                    --jp-layout-color3: #383838;\n",
       "                }\n",
       "                \n",
       "                .geemap-colab {\n",
       "                    background-color: var(--colab-primary-surface-color, white);\n",
       "                }\n",
       "                    \n",
       "                .geemap-colab .jupyter-button {\n",
       "                    --jp-layout-color3: var(--colab-primary-surface-color, white);\n",
       "                }\n",
       "            </style>\n",
       "            "
      ],
      "text/plain": [
       "<IPython.core.display.HTML object>"
      ]
     },
     "metadata": {},
     "output_type": "display_data"
    }
   ],
   "source": [
    "geemap.ee_initialize()"
   ]
  },
  {
   "cell_type": "code",
   "execution_count": 6,
   "id": "f110d8c3-0df1-457e-9010-0da2dea1b68e",
   "metadata": {},
   "outputs": [
    {
     "data": {
      "text/html": [
       "\n",
       "            <style>\n",
       "                .geemap-dark {\n",
       "                    --jp-widgets-color: white;\n",
       "                    --jp-widgets-label-color: white;\n",
       "                    --jp-ui-font-color1: white;\n",
       "                    --jp-layout-color2: #454545;\n",
       "                    background-color: #383838;\n",
       "                }\n",
       "                    \n",
       "                .geemap-dark .jupyter-button {\n",
       "                    --jp-layout-color3: #383838;\n",
       "                }\n",
       "                \n",
       "                .geemap-colab {\n",
       "                    background-color: var(--colab-primary-surface-color, white);\n",
       "                }\n",
       "                    \n",
       "                .geemap-colab .jupyter-button {\n",
       "                    --jp-layout-color3: var(--colab-primary-surface-color, white);\n",
       "                }\n",
       "            </style>\n",
       "            "
      ],
      "text/plain": [
       "<IPython.core.display.HTML object>"
      ]
     },
     "metadata": {},
     "output_type": "display_data"
    },
    {
     "data": {
      "application/vnd.jupyter.widget-view+json": {
       "model_id": "cc8e2bda3b0540f6b0a1a2d4e1a0ecd4",
       "version_major": 2,
       "version_minor": 0
      },
      "text/plain": [
       "Map(center=[0, 0], controls=(WidgetControl(options=['position', 'transparent_bg'], widget=SearchDataGUI(childr…"
      ]
     },
     "metadata": {},
     "output_type": "display_data"
    }
   ],
   "source": [
    "# Add basemap\n",
    "\n",
    "Map = geemap.Map()\n",
    "Map"
   ]
  },
  {
   "cell_type": "code",
   "execution_count": 7,
   "id": "ff437ffd-d33d-4e2e-b50e-96e60535a6ba",
   "metadata": {},
   "outputs": [
    {
     "data": {
      "text/html": [
       "\n",
       "            <style>\n",
       "                .geemap-dark {\n",
       "                    --jp-widgets-color: white;\n",
       "                    --jp-widgets-label-color: white;\n",
       "                    --jp-ui-font-color1: white;\n",
       "                    --jp-layout-color2: #454545;\n",
       "                    background-color: #383838;\n",
       "                }\n",
       "                    \n",
       "                .geemap-dark .jupyter-button {\n",
       "                    --jp-layout-color3: #383838;\n",
       "                }\n",
       "                \n",
       "                .geemap-colab {\n",
       "                    background-color: var(--colab-primary-surface-color, white);\n",
       "                }\n",
       "                    \n",
       "                .geemap-colab .jupyter-button {\n",
       "                    --jp-layout-color3: var(--colab-primary-surface-color, white);\n",
       "                }\n",
       "            </style>\n",
       "            "
      ],
      "text/plain": [
       "<IPython.core.display.HTML object>"
      ]
     },
     "metadata": {},
     "output_type": "display_data"
    },
    {
     "data": {
      "application/vnd.jupyter.widget-view+json": {
       "model_id": "dcefc08c442042539d6ea1e3ddc8cc60",
       "version_major": 2,
       "version_minor": 0
      },
      "text/plain": [
       "Map(center=[40, -100], controls=(WidgetControl(options=['position', 'transparent_bg'], widget=SearchDataGUI(ch…"
      ]
     },
     "metadata": {},
     "output_type": "display_data"
    }
   ],
   "source": [
    "Map = geemap.Map(center=[40, -100], zoom=4)\n",
    "dem = ee.Image('USGS/3DEP/10m')\n",
    "vis = {'min': 0, 'max': 4000, 'palette': 'terrain'}\n",
    "Map.addLayer(dem, vis, 'DEM')\n",
    "Map"
   ]
  },
  {
   "cell_type": "markdown",
   "id": "a12f4f75-9647-4111-bc9f-2a0db48e4bdf",
   "metadata": {},
   "source": [
    "### Search for dataset"
   ]
  },
  {
   "cell_type": "code",
   "execution_count": 8,
   "id": "df0dd7d7-aebc-4cdd-b58d-8988d47dd5ff",
   "metadata": {},
   "outputs": [
    {
     "data": {
      "text/html": [
       "\n",
       "            <style>\n",
       "                .geemap-dark {\n",
       "                    --jp-widgets-color: white;\n",
       "                    --jp-widgets-label-color: white;\n",
       "                    --jp-ui-font-color1: white;\n",
       "                    --jp-layout-color2: #454545;\n",
       "                    background-color: #383838;\n",
       "                }\n",
       "                    \n",
       "                .geemap-dark .jupyter-button {\n",
       "                    --jp-layout-color3: #383838;\n",
       "                }\n",
       "                \n",
       "                .geemap-colab {\n",
       "                    background-color: var(--colab-primary-surface-color, white);\n",
       "                }\n",
       "                    \n",
       "                .geemap-colab .jupyter-button {\n",
       "                    --jp-layout-color3: var(--colab-primary-surface-color, white);\n",
       "                }\n",
       "            </style>\n",
       "            "
      ],
      "text/plain": [
       "<IPython.core.display.HTML object>"
      ]
     },
     "metadata": {},
     "output_type": "display_data"
    }
   ],
   "source": [
    "##dataset_xyz = ee.Image('LANDSAT/LC08/C02/T2_L2')"
   ]
  },
  {
   "cell_type": "code",
   "execution_count": 13,
   "id": "83fac57c-1929-4e67-8066-f83ba0ae36b0",
   "metadata": {},
   "outputs": [
    {
     "data": {
      "text/html": [
       "\n",
       "            <style>\n",
       "                .geemap-dark {\n",
       "                    --jp-widgets-color: white;\n",
       "                    --jp-widgets-label-color: white;\n",
       "                    --jp-ui-font-color1: white;\n",
       "                    --jp-layout-color2: #454545;\n",
       "                    background-color: #383838;\n",
       "                }\n",
       "                    \n",
       "                .geemap-dark .jupyter-button {\n",
       "                    --jp-layout-color3: #383838;\n",
       "                }\n",
       "                \n",
       "                .geemap-colab {\n",
       "                    background-color: var(--colab-primary-surface-color, white);\n",
       "                }\n",
       "                    \n",
       "                .geemap-colab .jupyter-button {\n",
       "                    --jp-layout-color3: var(--colab-primary-surface-color, white);\n",
       "                }\n",
       "            </style>\n",
       "            "
      ],
      "text/plain": [
       "<IPython.core.display.HTML object>"
      ]
     },
     "metadata": {},
     "output_type": "display_data"
    },
    {
     "data": {
      "application/vnd.jupyter.widget-view+json": {
       "model_id": "4753ebab3e674da3887ddc56c8604afb",
       "version_major": 2,
       "version_minor": 0
      },
      "text/plain": [
       "Map(center=[38.9275, -114.2579], controls=(WidgetControl(options=['position', 'transparent_bg'], widget=Search…"
      ]
     },
     "metadata": {},
     "output_type": "display_data"
    }
   ],
   "source": [
    "#Get all the images from the landsat collection for month of May 2021\n",
    "dataset = ee.ImageCollection('LANDSAT/LC08/C02/T1_L2').filterDate(\n",
    "    '2021-05-01', '2021-06-01'\n",
    ")\n",
    "\n",
    "\n",
    "# Applies scaling factors.\n",
    "def apply_scale_factors(image):\n",
    "  optical_bands = image.select('SR_B.').multiply(0.0000275).add(-0.2)\n",
    "  thermal_bands = image.select('ST_B.*').multiply(0.00341802).add(149.0)\n",
    "  return image.addBands(optical_bands, None, True).addBands(\n",
    "      thermal_bands, None, True\n",
    "  )\n",
    "\n",
    "\n",
    "dataset = dataset.map(apply_scale_factors)\n",
    "\n",
    "visualization = {\n",
    "    'bands': ['SR_B6', 'SR_B7'],\n",
    "    'min': 0.0,\n",
    "    'max': 0.3,\n",
    "}\n",
    "\n",
    "m = geemap.Map()\n",
    "m.set_center(-114.2579, 38.9275, 8)\n",
    "m.add_layer(dataset, visualization, 'True Color (432)')\n",
    "m"
   ]
  },
  {
   "cell_type": "code",
   "execution_count": null,
   "id": "0f93bd2f-ca10-4330-b701-b21cd6ac380a",
   "metadata": {},
   "outputs": [],
   "source": []
  },
  {
   "cell_type": "code",
   "execution_count": null,
   "id": "d2cd2bba-0b90-4c9b-99c5-27a7fd97ecf1",
   "metadata": {},
   "outputs": [],
   "source": []
  },
  {
   "cell_type": "code",
   "execution_count": null,
   "id": "921a6734-de70-43f9-950e-7e338cc764da",
   "metadata": {},
   "outputs": [],
   "source": [
    "## "
   ]
  }
 ],
 "metadata": {
  "kernelspec": {
   "display_name": "Python 3 (ipykernel)",
   "language": "python",
   "name": "python3"
  },
  "language_info": {
   "codemirror_mode": {
    "name": "ipython",
    "version": 3
   },
   "file_extension": ".py",
   "mimetype": "text/x-python",
   "name": "python",
   "nbconvert_exporter": "python",
   "pygments_lexer": "ipython3",
   "version": "3.12.1"
  }
 },
 "nbformat": 4,
 "nbformat_minor": 5
}
