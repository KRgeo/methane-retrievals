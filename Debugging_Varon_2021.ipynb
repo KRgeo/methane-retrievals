{
 "cells": [
  {
   "cell_type": "code",
   "execution_count": 36,
   "metadata": {},
   "outputs": [
    {
     "data": {
      "text/html": [
       "\n",
       "            <style>\n",
       "                .geemap-dark {\n",
       "                    --jp-widgets-color: white;\n",
       "                    --jp-widgets-label-color: white;\n",
       "                    --jp-ui-font-color1: white;\n",
       "                    --jp-layout-color2: #454545;\n",
       "                    background-color: #383838;\n",
       "                }\n",
       "\n",
       "                .geemap-dark .jupyter-button {\n",
       "                    --jp-layout-color3: #383838;\n",
       "                }\n",
       "\n",
       "                .geemap-colab {\n",
       "                    background-color: var(--colab-primary-surface-color, white);\n",
       "                }\n",
       "\n",
       "                .geemap-colab .jupyter-button {\n",
       "                    --jp-layout-color3: var(--colab-primary-surface-color, white);\n",
       "                }\n",
       "            </style>\n",
       "            "
      ],
      "text/plain": [
       "<IPython.core.display.HTML object>"
      ]
     },
     "metadata": {},
     "output_type": "display_data"
    },
    {
     "data": {
      "text/plain": [
       "'\\nKalyani Ramanan 8/1/25\\nThis script is a debugging exercise for the retrieval code in Varon et al. (2021).\\n\\n'"
      ]
     },
     "execution_count": 36,
     "metadata": {},
     "output_type": "execute_result"
    }
   ],
   "source": [
    "'''\n",
    "Kalyani Ramanan 8/1/25\n",
    "This script is a debugging exercise for the retrieval code in Varon et al. (2021).\n",
    "\n",
    "'''"
   ]
  },
  {
   "cell_type": "markdown",
   "metadata": {},
   "source": [
    "## Load and run retrieval functions\n"
   ]
  },
  {
   "cell_type": "markdown",
   "metadata": {},
   "source": [
    "### Load libraries, set constants, paths, initial parameter definition"
   ]
  },
  {
   "cell_type": "code",
   "execution_count": 2,
   "metadata": {},
   "outputs": [],
   "source": [
    "import numpy as np\n",
    "import matplotlib.pyplot as plt\n",
    "import time\n",
    "import scipy\n",
    "from scipy import optimize\n",
    "from scipy import interpolate\n",
    "import os\n",
    "import ee\n",
    "import geemap\n",
    "from geemap import *\n",
    "import numpy as np\n",
    "import xarray as xr # May need to install using %pip install xarray\n",
    "import datetime\n",
    "from matplotlib import pyplot as plt\n",
    "\n",
    "ee.Authenticate()\n",
    "\n",
    "#Initialize earth engine for a new Python session\n",
    "ee.Initialize(project = 'ee-krgeophys')\n",
    "\n"
   ]
  },
  {
   "cell_type": "code",
   "execution_count": 3,
   "metadata": {},
   "outputs": [
    {
     "data": {
      "text/html": [
       "\n",
       "            <style>\n",
       "                .geemap-dark {\n",
       "                    --jp-widgets-color: white;\n",
       "                    --jp-widgets-label-color: white;\n",
       "                    --jp-ui-font-color1: white;\n",
       "                    --jp-layout-color2: #454545;\n",
       "                    background-color: #383838;\n",
       "                }\n",
       "\n",
       "                .geemap-dark .jupyter-button {\n",
       "                    --jp-layout-color3: #383838;\n",
       "                }\n",
       "\n",
       "                .geemap-colab {\n",
       "                    background-color: var(--colab-primary-surface-color, white);\n",
       "                }\n",
       "\n",
       "                .geemap-colab .jupyter-button {\n",
       "                    --jp-layout-color3: var(--colab-primary-surface-color, white);\n",
       "                }\n",
       "            </style>\n",
       "            "
      ],
      "text/plain": [
       "<IPython.core.display.HTML object>"
      ]
     },
     "metadata": {},
     "output_type": "display_data"
    }
   ],
   "source": [
    "# Global variables\n",
    "c = 299792458.\n",
    "kB = 1.38064852e-23\n",
    "deg = np.pi/180\n",
    "mbartoatm = 0.000986923\n",
    "kpatoatm = 0.00986923/1000.\n",
    "kmtocm = 1E5\n",
    "mtocm = 100.\n",
    "mol=6.022140857E23\n",
    "start_time = time.time()\n",
    "\n",
    "# Key directories\n",
    "aux_data_dir = 'aux_data'\n",
    "hapi_data_dir = 'hapi_data'"
   ]
  },
  {
   "cell_type": "code",
   "execution_count": 4,
   "metadata": {},
   "outputs": [
    {
     "data": {
      "text/html": [
       "\n",
       "            <style>\n",
       "                .geemap-dark {\n",
       "                    --jp-widgets-color: white;\n",
       "                    --jp-widgets-label-color: white;\n",
       "                    --jp-ui-font-color1: white;\n",
       "                    --jp-layout-color2: #454545;\n",
       "                    background-color: #383838;\n",
       "                }\n",
       "\n",
       "                .geemap-dark .jupyter-button {\n",
       "                    --jp-layout-color3: #383838;\n",
       "                }\n",
       "\n",
       "                .geemap-colab {\n",
       "                    background-color: var(--colab-primary-surface-color, white);\n",
       "                }\n",
       "\n",
       "                .geemap-colab .jupyter-button {\n",
       "                    --jp-layout-color3: var(--colab-primary-surface-color, white);\n",
       "                }\n",
       "            </style>\n",
       "            "
      ],
      "text/plain": [
       "<IPython.core.display.HTML object>"
      ]
     },
     "metadata": {},
     "output_type": "display_data"
    }
   ],
   "source": [
    "# Initial parameter Configuration - can ovewrite later\n",
    "nlayers = 100\n",
    "num_layers = nlayers\n",
    "targheight = 0\n",
    "obsheight = 100\n",
    "obsangle = 40\n",
    "solarangle  = 0\n",
    "instrument = 'S2A'\n",
    "method = 'MBSP'"
   ]
  },
  {
   "cell_type": "markdown",
   "metadata": {},
   "source": [
    "### Import mixing ratios, temp, press profiles"
   ]
  },
  {
   "cell_type": "code",
   "execution_count": 5,
   "metadata": {},
   "outputs": [
    {
     "data": {
      "text/html": [
       "\n",
       "            <style>\n",
       "                .geemap-dark {\n",
       "                    --jp-widgets-color: white;\n",
       "                    --jp-widgets-label-color: white;\n",
       "                    --jp-ui-font-color1: white;\n",
       "                    --jp-layout-color2: #454545;\n",
       "                    background-color: #383838;\n",
       "                }\n",
       "\n",
       "                .geemap-dark .jupyter-button {\n",
       "                    --jp-layout-color3: #383838;\n",
       "                }\n",
       "\n",
       "                .geemap-colab {\n",
       "                    background-color: var(--colab-primary-surface-color, white);\n",
       "                }\n",
       "\n",
       "                .geemap-colab .jupyter-button {\n",
       "                    --jp-layout-color3: var(--colab-primary-surface-color, white);\n",
       "                }\n",
       "            </style>\n",
       "            "
      ],
      "text/plain": [
       "<IPython.core.display.HTML object>"
      ]
     },
     "metadata": {},
     "output_type": "display_data"
    }
   ],
   "source": [
    "def importMRTP(num_layers, targheight, obsheight, solarangle, obsangle, ch4_scale=1.1029, co2_scale=1.2424, h2o_scale=1):\n",
    "    '''\n",
    "    Load auxiliary data for vertical profiles of temperature, pressure, and CH4, CO2, and H2O mixing ratio.\n",
    "    These data come from the U.S. Standard Atmosphere. \n",
    "    Also calculate the pathlength in each layer for input observation angles.\n",
    "    CH4 and CO2 profiles need to be scaled up to match modern-day concentrations.\n",
    "\n",
    "    Arguments\n",
    "        num_layers [int]   : Number of vertical pressure layers for the radiative transfer calculation\n",
    "        targheight [float] : Target elevation above sea level in km\n",
    "        obsheight  [float] : Altitude of satellite instrument in km. Can use 100 km as if satellite were at top of atmosphere\n",
    "        solarangle [float] : Solar zenith angle in degrees\n",
    "        obsangle   [float] : Viewing zenith angle of instrument in degrees\n",
    "        ch4_scale  [float] : Scale factor multiplying U.S. Standard CH4 profile (1.1029 implies 1875 ppb at the surface)\n",
    "        co2_scale  [float] : Same but for U.S. Standard CO2 profile (1.2424 implies 410 ppm at the surface)\n",
    "        h2o_scale  [float] : Same but for U.S. Standard H2O profile\n",
    "\n",
    "    Returns\n",
    "        pathlength [float] : Path length in each layer [cm]\n",
    "        pressavg   [float] : Average pressure in each layer [atm]\n",
    "        tempavg    [float] : Average temperature in each layer [K]\n",
    "        mrCH4avg   [float] : Average CH4 mixing ratio in each layer\n",
    "        mrCO2avg   [float] : Average CO2 mixing ratio in each layer\n",
    "        mrH2Oavg   [float] : Average H2O mixing ratio in each layer\n",
    "    ''' \n",
    "        \n",
    "    # Mixing Ratio\n",
    "    \n",
    "    mrCO2 = np.transpose(np.genfromtxt(f'{aux_data_dir}/co2.dat'))\n",
    "    mrH2O = np.transpose(np.genfromtxt(f'{aux_data_dir}/h2o.dat'))\n",
    "    mrCH4 = np.transpose(np.genfromtxt(f'{aux_data_dir}/ch4.dat'))\n",
    "    # Temperature\n",
    "    temp = np.transpose(np.genfromtxt(f'{aux_data_dir}/temperature.dat'))\n",
    "    \n",
    "    # Pressure\n",
    "    press = np.transpose(np.genfromtxt(f'{aux_data_dir}/pressure.dat'))\n",
    "    \n",
    "    # Define altitude in cm\n",
    "    altitude = press[1][::-1] * kmtocm\n",
    "    # Define pressure in atm\n",
    "    pressure = press[0][::-1] * mbartoatm\n",
    "    \n",
    "    # Find pressure as a function of altitude\n",
    "    altfine = np.arange(0, 10, 0.01)\n",
    "    pressfine = np.interp(altfine, press[1], press[0]*mbartoatm)\n",
    "    idfine = (np.abs(altfine-targheight)).argmin()\n",
    "    pressmax = pressfine[idfine]    \n",
    "    \n",
    "    # Interpolate to get layers evenly spaced in pressure\n",
    "    dpress = (pressmax-2.9608E-5)/num_layers\n",
    "    pressinterp = np.arange(0, pressmax+dpress, dpress)\n",
    "    altinterp = np.interp(pressinterp, pressure, altitude)\n",
    "\n",
    "    # Find temperature at each altitude\n",
    "    alttemp = temp[1]*kmtocm\n",
    "    temperature = temp[0]\n",
    "    tempinterp = np.interp(altinterp, alttemp, temperature)\n",
    "    \n",
    "    # Find mixing ratios at each altitude\n",
    "    altmrCH4 = mrCH4[1]*kmtocm\n",
    "    altmrCO2 = mrCO2[1]*kmtocm\n",
    "    altmrH2O = mrH2O[1]*kmtocm\n",
    "    mixrateCH4 = mrCH4[0]*ch4_scale\n",
    "    mixrateCO2 = mrCO2[0]*co2_scale\n",
    "    mixrateH2O = mrH2O[0]*h2o_scale\n",
    "    \n",
    "    # Interpolate and then sample using the altitude sample points determined from isobaric pressure increases\n",
    "    mrCH4interp = np.interp(altinterp, altmrCH4, mixrateCH4)\n",
    "    mrCO2interp = np.interp(altinterp, altmrCO2, mixrateCO2)\n",
    "    mrH2Ointerp = np.interp(altinterp, altmrH2O, mixrateH2O)\n",
    "    \n",
    "    def find_nearest_alt(array,value):\n",
    "        idx = (np.abs(array-value)).argmin()\n",
    "        secondpass = array[idx:len(array)]\n",
    "        zeroarray = np.zeros(idx)\n",
    "        upwellingpass = np.concatenate((zeroarray, secondpass))\n",
    "        return upwellingpass\n",
    "    \n",
    "    upwellingpass = find_nearest_alt(altinterp, obsheight*kmtocm)\n",
    "    \n",
    "    # Find path length of each layer\n",
    "    pathlengthdown = np.zeros(num_layers)\n",
    "    pathlengthup = np.zeros(num_layers)\n",
    "    for i in range(0, num_layers):\n",
    "        pathlengthdown[i] = np.absolute(altinterp[i]-altinterp[i+1])\n",
    "        pathlengthup[i] = np.absolute(upwellingpass[i]-upwellingpass[i+1])\n",
    "        \n",
    "    # Calculate path given the Solar and observation angle from Nadir\n",
    "    pathlength = pathlengthdown/np.cos(solarangle*deg) + pathlengthup/np.cos(obsangle*deg)\n",
    " \n",
    "    # Define average value in layers\n",
    "    pressavg = np.zeros(len(pathlength))\n",
    "    tempavg = np.zeros(len(pathlength))\n",
    "    mrCH4avg = np.zeros(len(pathlength))\n",
    "    mrCO2avg = np.zeros(len(pathlength))\n",
    "    mrH2Oavg = np.zeros(len(pathlength))   \n",
    "    for i in range(0,len(pathlength)):\n",
    "        pressavg[i] = (pressinterp[i+1]+pressinterp[i])/2.\n",
    "        tempavg[i] = (tempinterp[i+1]+tempinterp[i])/2.\n",
    "        mrCH4avg[i] = (mrCH4interp[i+1]+mrCH4interp[i])/2.\n",
    "        mrCO2avg[i] = (mrCO2interp[i+1]+mrCO2interp[i])/2.\n",
    "        mrH2Oavg[i] = (mrH2Ointerp[i+1]+mrH2Ointerp[i])/2.\n",
    "\n",
    "    return pathlength, pressavg, tempavg, mrCH4avg, mrCO2avg, mrH2Oavg"
   ]
  },
  {
   "cell_type": "markdown",
   "metadata": {},
   "source": [
    "### Save toasr, ods, solar spec for each band/instrument combo\n",
    "\n",
    "##### This is my modification to the original code. I have moved the interpolation and saving of optical depth solar spectrum and enhancement-free toasr out of the iteration to decrease run time"
   ]
  },
  {
   "cell_type": "code",
   "execution_count": 6,
   "metadata": {},
   "outputs": [
    {
     "data": {
      "text/html": [
       "\n",
       "            <style>\n",
       "                .geemap-dark {\n",
       "                    --jp-widgets-color: white;\n",
       "                    --jp-widgets-label-color: white;\n",
       "                    --jp-ui-font-color1: white;\n",
       "                    --jp-layout-color2: #454545;\n",
       "                    background-color: #383838;\n",
       "                }\n",
       "\n",
       "                .geemap-dark .jupyter-button {\n",
       "                    --jp-layout-color3: #383838;\n",
       "                }\n",
       "\n",
       "                .geemap-colab {\n",
       "                    background-color: var(--colab-primary-surface-color, white);\n",
       "                }\n",
       "\n",
       "                .geemap-colab .jupyter-button {\n",
       "                    --jp-layout-color3: var(--colab-primary-surface-color, white);\n",
       "                }\n",
       "            </style>\n",
       "            "
      ],
      "text/plain": [
       "<IPython.core.display.HTML object>"
      ]
     },
     "metadata": {},
     "output_type": "display_data"
    }
   ],
   "source": [
    "# Calculate and save optical densities\n",
    "\n",
    "def save_optical_densities(instrument, band):\n",
    "\n",
    "    # Load absorption cross-sections for S2A band 12\n",
    "\n",
    "    wavelength = np.load(f'{hapi_data_dir}/abs_wave_hapi_{instrument}_band{band}.npy')\n",
    "    press_load = np.load(f'{hapi_data_dir}/abs_press_hapi_{instrument}_band{band}.npy')\n",
    "    temp_load = np.load(f'{hapi_data_dir}/abs_temp_hapi_{instrument}_band{band}.npy')   \n",
    "    absCH4_load  = np.load(f'{hapi_data_dir}/abs_ch4_hapi_{instrument}_band{band}.npy')\n",
    "    absCO2_load = np.load(f'{hapi_data_dir}/abs_co2_hapi_{instrument}_band{band}.npy')\n",
    "    absH2O_load = np.load(f'{hapi_data_dir}/abs_h2o_hapi_{instrument}_band{band}.npy')\n",
    "    num_wave = len(wavelength)\n",
    "\n",
    "    # Calculate optical density\n",
    "    odCH4pts_upper = np.zeros(num_wave)\n",
    "    odCH4pts_lower = np.zeros(num_wave)\n",
    "    odCO2pts = np.zeros(num_wave)\n",
    "    odH2Opts = np.zeros(num_wave)\n",
    "\n",
    "\n",
    "    interp_order = 3\n",
    "\n",
    "    for i in range(num_wave):\n",
    "\n",
    "        fCH4_tp = scipy.interpolate.RectBivariateSpline(temp_load, press_load, absCH4_load.T[i], kx=interp_order, ky=interp_order)\n",
    "        fCO2_tp = scipy.interpolate.RectBivariateSpline(temp_load, press_load, absCO2_load.T[i], kx=interp_order, ky=interp_order)\n",
    "        fH2O_tp = scipy.interpolate.RectBivariateSpline(temp_load, press_load, absH2O_load.T[i], kx=interp_order, ky=interp_order)\n",
    "                # Get solar spectrum - also save since it changes for each band/instrument combo due to wavelength variable\n",
    "\n",
    "        for j in range(num_layers):\n",
    "\n",
    "            # Calculate density\n",
    "            temperature_K = temp[j]\n",
    "            pressure_atm = press_atm[j]\n",
    "            pressure_Pa = pressure_atm*101325\n",
    "            density_m3 = pressure_Pa/(kB*temperature_K)\n",
    "            density_cm3 = density_m3/(1E6)\n",
    "\n",
    "            # Evaluate interpolation function\n",
    "            f_CH4_temp = fCH4_tp(temperature_K, pressure_atm)\n",
    "            f_CO2_temp = fCO2_tp(temperature_K, pressure_atm)\n",
    "            f_H2O_temp = fH2O_tp(temperature_K, pressure_atm)\n",
    "                        \n",
    "            # Calculate the (unit-less) optical density: OD = abs*n*MR*L\n",
    "            lim_low = 6\n",
    "            if j >= num_layers - lim_low:\n",
    "                # Lowest 6 pressure layers = lowest 500 m of atmosphere (lower)\n",
    "                odCH4pts_lower[i] = odCH4pts_lower[i] + f_CH4_temp*density_cm3*mrCH4[j]*L_cm[j]\n",
    "            else:\n",
    "                # The rest of the atmosphere (upper)\n",
    "                odCH4pts_upper[i] = odCH4pts_upper[i] + f_CH4_temp*density_cm3*mrCH4[j]*L_cm[j]\n",
    "            odCO2pts[i] = odCO2pts[i] + f_CO2_temp*density_cm3*mrCO2[j]*L_cm[j]\n",
    "            odH2Opts[i] = odH2Opts[i] + f_H2O_temp*density_cm3*mrH2O[j]*L_cm[j]\n",
    "\n",
    "\n",
    "\n",
    "\n",
    "    # Save optical densities\n",
    "    \n",
    "    # Create the directory if it doesn't exist\n",
    "    directory = \"optical_densities\"\n",
    "    if not os.path.exists(directory):\n",
    "        os.makedirs(directory)\n",
    "\n",
    "   # Save the variables to  .npy files\n",
    "    np.save(os.path.join(directory, f\"odCH4pts_upper_{instrument}_{band}.npy\"), odCH4pts_upper)\n",
    "    np.save(os.path.join(directory, f\"odCH4pts_lower_{instrument}_{band}.npy\"), odCH4pts_lower)\n",
    "    np.save(os.path.join(directory, f\"odH2Opts_{instrument}_{band}.npy\"), odH2Opts)\n",
    "    np.save(os.path.join(directory, f\"odCO2pts_{instrument}_{band}.npy\"), odCO2pts)\n"
   ]
  },
  {
   "cell_type": "code",
   "execution_count": 7,
   "metadata": {},
   "outputs": [
    {
     "data": {
      "text/html": [
       "\n",
       "            <style>\n",
       "                .geemap-dark {\n",
       "                    --jp-widgets-color: white;\n",
       "                    --jp-widgets-label-color: white;\n",
       "                    --jp-ui-font-color1: white;\n",
       "                    --jp-layout-color2: #454545;\n",
       "                    background-color: #383838;\n",
       "                }\n",
       "\n",
       "                .geemap-dark .jupyter-button {\n",
       "                    --jp-layout-color3: #383838;\n",
       "                }\n",
       "\n",
       "                .geemap-colab {\n",
       "                    background-color: var(--colab-primary-surface-color, white);\n",
       "                }\n",
       "\n",
       "                .geemap-colab .jupyter-button {\n",
       "                    --jp-layout-color3: var(--colab-primary-surface-color, white);\n",
       "                }\n",
       "            </style>\n",
       "            "
      ],
      "text/plain": [
       "<IPython.core.display.HTML object>"
      ]
     },
     "metadata": {},
     "output_type": "display_data"
    }
   ],
   "source": [
    "# Generate and save optical densities for S2A and S2B bands 11 and 12\n",
    "\n",
    "instruments = ['S2A', 'S2B']\n",
    "bands = ['11', '12']\n",
    "\n",
    "# Don't run if files have already been saved\n",
    "if not os.path.exists('optical_densities/odCH4pts_upper_S2A_12.npy'):\n",
    "    \n",
    "    for instrument in instruments:\n",
    "        for band in bands:\n",
    "            save_optical_densities(instrument, band)\n"
   ]
  },
  {
   "cell_type": "code",
   "execution_count": 8,
   "metadata": {},
   "outputs": [
    {
     "data": {
      "text/html": [
       "\n",
       "            <style>\n",
       "                .geemap-dark {\n",
       "                    --jp-widgets-color: white;\n",
       "                    --jp-widgets-label-color: white;\n",
       "                    --jp-ui-font-color1: white;\n",
       "                    --jp-layout-color2: #454545;\n",
       "                    background-color: #383838;\n",
       "                }\n",
       "\n",
       "                .geemap-dark .jupyter-button {\n",
       "                    --jp-layout-color3: #383838;\n",
       "                }\n",
       "\n",
       "                .geemap-colab {\n",
       "                    background-color: var(--colab-primary-surface-color, white);\n",
       "                }\n",
       "\n",
       "                .geemap-colab .jupyter-button {\n",
       "                    --jp-layout-color3: var(--colab-primary-surface-color, white);\n",
       "                }\n",
       "            </style>\n",
       "            "
      ],
      "text/plain": [
       "<IPython.core.display.HTML object>"
      ]
     },
     "metadata": {},
     "output_type": "display_data"
    }
   ],
   "source": [
    "directory_solar = \"solar_spectra\""
   ]
  },
  {
   "cell_type": "code",
   "execution_count": 9,
   "metadata": {},
   "outputs": [
    {
     "data": {
      "text/html": [
       "\n",
       "            <style>\n",
       "                .geemap-dark {\n",
       "                    --jp-widgets-color: white;\n",
       "                    --jp-widgets-label-color: white;\n",
       "                    --jp-ui-font-color1: white;\n",
       "                    --jp-layout-color2: #454545;\n",
       "                    background-color: #383838;\n",
       "                }\n",
       "\n",
       "                .geemap-dark .jupyter-button {\n",
       "                    --jp-layout-color3: #383838;\n",
       "                }\n",
       "\n",
       "                .geemap-colab {\n",
       "                    background-color: var(--colab-primary-surface-color, white);\n",
       "                }\n",
       "\n",
       "                .geemap-colab .jupyter-button {\n",
       "                    --jp-layout-color3: var(--colab-primary-surface-color, white);\n",
       "                }\n",
       "            </style>\n",
       "            "
      ],
      "text/plain": [
       "<IPython.core.display.HTML object>"
      ]
     },
     "metadata": {},
     "output_type": "display_data"
    }
   ],
   "source": [
    "# Generate solar spectrum for each instrument/band combo\n",
    "\n",
    "\n",
    "def save_solar_spec(instrument, band):\n",
    "\n",
    "    wavelength = np.load(f'{hapi_data_dir}/abs_wave_hapi_{instrument}_band{band}.npy')\n",
    "\n",
    "    # Get solar spectrum - also save since it changes for each band/instrument combo due to wavelength variable\n",
    "    solarspec = np.transpose(np.genfromtxt(f'{aux_data_dir}/SUNp01_4000_to_7000.txt'))\n",
    "    wavesolar = 1E7/solarspec[0][::-1]\n",
    "    radiancesolar = solarspec[1][::-1]*(100*solarspec[0][::-1]**2)\n",
    "\n",
    "    solarradiance = np.interp(wavelength, wavesolar,radiancesolar)\n",
    "\n",
    "    # directory_solar = \"solar_spectra\"\n",
    "    # if not os.path.exists(directory_solar):\n",
    "    #     os.makedirs(directory_solar)\n",
    "\n",
    "    np.save(os.path.join(directory_solar, f\"solar_spectrum_{instrument}_{band}.npy\"), solarradiance)"
   ]
  },
  {
   "cell_type": "code",
   "execution_count": 10,
   "metadata": {},
   "outputs": [
    {
     "data": {
      "text/html": [
       "\n",
       "            <style>\n",
       "                .geemap-dark {\n",
       "                    --jp-widgets-color: white;\n",
       "                    --jp-widgets-label-color: white;\n",
       "                    --jp-ui-font-color1: white;\n",
       "                    --jp-layout-color2: #454545;\n",
       "                    background-color: #383838;\n",
       "                }\n",
       "\n",
       "                .geemap-dark .jupyter-button {\n",
       "                    --jp-layout-color3: #383838;\n",
       "                }\n",
       "\n",
       "                .geemap-colab {\n",
       "                    background-color: var(--colab-primary-surface-color, white);\n",
       "                }\n",
       "\n",
       "                .geemap-colab .jupyter-button {\n",
       "                    --jp-layout-color3: var(--colab-primary-surface-color, white);\n",
       "                }\n",
       "            </style>\n",
       "            "
      ],
      "text/plain": [
       "<IPython.core.display.HTML object>"
      ]
     },
     "metadata": {},
     "output_type": "display_data"
    }
   ],
   "source": [
    "# Generate solar spectrum for each instrument/band combo\n",
    "\n",
    "\n",
    "def save_solar_spec(instrument, band):\n",
    "\n",
    "    wavelength = np.load(f'{hapi_data_dir}/abs_wave_hapi_{instrument}_band{band}.npy')\n",
    "\n",
    "    # Get solar spectrum - also save since it changes for each band/instrument combo due to wavelength variable\n",
    "    solarspec = np.transpose(np.genfromtxt(f'{aux_data_dir}/SUNp01_4000_to_7000.txt'))\n",
    "    wavesolar = 1E7/solarspec[0][::-1]\n",
    "    radiancesolar = solarspec[1][::-1]*(100*solarspec[0][::-1]**2)\n",
    "\n",
    "    solarradiance = np.interp(wavelength, wavesolar,radiancesolar)\n",
    "\n",
    "    # directory_solar = \"solar_spectra\"\n",
    "    # if not os.path.exists(directory_solar):\n",
    "    #     os.makedirs(directory_solar)\n",
    "\n",
    "    np.save(os.path.join(directory_solar, f\"solar_spectrum_{instrument}_{band}.npy\"), solarradiance)"
   ]
  },
  {
   "cell_type": "code",
   "execution_count": 11,
   "metadata": {},
   "outputs": [
    {
     "data": {
      "text/html": [
       "\n",
       "            <style>\n",
       "                .geemap-dark {\n",
       "                    --jp-widgets-color: white;\n",
       "                    --jp-widgets-label-color: white;\n",
       "                    --jp-ui-font-color1: white;\n",
       "                    --jp-layout-color2: #454545;\n",
       "                    background-color: #383838;\n",
       "                }\n",
       "\n",
       "                .geemap-dark .jupyter-button {\n",
       "                    --jp-layout-color3: #383838;\n",
       "                }\n",
       "\n",
       "                .geemap-colab {\n",
       "                    background-color: var(--colab-primary-surface-color, white);\n",
       "                }\n",
       "\n",
       "                .geemap-colab .jupyter-button {\n",
       "                    --jp-layout-color3: var(--colab-primary-surface-color, white);\n",
       "                }\n",
       "            </style>\n",
       "            "
      ],
      "text/plain": [
       "<IPython.core.display.HTML object>"
      ]
     },
     "metadata": {},
     "output_type": "display_data"
    },
    {
     "name": "stdout",
     "output_type": "stream",
     "text": [
      "S2A band 11 solar spectrum saved.\n",
      "S2A band 12 solar spectrum saved.\n",
      "S2B band 11 solar spectrum saved.\n",
      "S2B band 12 solar spectrum saved.\n"
     ]
    }
   ],
   "source": [
    "# Generate and save optical densities for S2A and S2B bands 11 and 12\n",
    "\n",
    "instruments = ['S2A', 'S2B']\n",
    "bands = ['11', '12']\n",
    "\n",
    "for instrument in instruments:\n",
    "    for band in bands:\n",
    "        save_solar_spec(instrument, band)\n",
    "        print(f'{instrument} band {band} solar spectrum saved.')\n"
   ]
  },
  {
   "cell_type": "code",
   "execution_count": 12,
   "metadata": {},
   "outputs": [
    {
     "data": {
      "text/html": [
       "\n",
       "            <style>\n",
       "                .geemap-dark {\n",
       "                    --jp-widgets-color: white;\n",
       "                    --jp-widgets-label-color: white;\n",
       "                    --jp-ui-font-color1: white;\n",
       "                    --jp-layout-color2: #454545;\n",
       "                    background-color: #383838;\n",
       "                }\n",
       "\n",
       "                .geemap-dark .jupyter-button {\n",
       "                    --jp-layout-color3: #383838;\n",
       "                }\n",
       "\n",
       "                .geemap-colab {\n",
       "                    background-color: var(--colab-primary-surface-color, white);\n",
       "                }\n",
       "\n",
       "                .geemap-colab .jupyter-button {\n",
       "                    --jp-layout-color3: var(--colab-primary-surface-color, white);\n",
       "                }\n",
       "            </style>\n",
       "            "
      ],
      "text/plain": [
       "<IPython.core.display.HTML object>"
      ]
     },
     "metadata": {},
     "output_type": "display_data"
    }
   ],
   "source": [
    "\n",
    "def save_toasr(targheight, obsheight, solarangle, obsangle, instrument, band, num_layers=nlayers):\n",
    "\n",
    "    # Import press, temp, pathlength and mixing ratios using ImportMRTP function\n",
    "    # Import pressure, temperature, path-length, and mixing ratios\n",
    "    (L_cm, press_atm, temp, mrCH4, mrCO2, mrH2O) = importMRTP(num_layers, targheight, obsheight, solarangle, obsangle)\n",
    "\n",
    "    # Calculate slant column density of methane\n",
    "    cdCH4 = np.sum((press_atm/kpatoatm/(kB*temp)/mtocm**3)*mrCH4*L_cm/mol*mtocm**2)\n",
    "\n",
    "    lim_low = 6\n",
    "    \n",
    "    press_atm_lower = press_atm[-lim_low:]\n",
    "    temp_lower = temp[-lim_low:]\n",
    "    L_cm_lower = L_cm[-lim_low:]\n",
    "    cdCH4_lower = np.sum((press_atm_lower/kpatoatm/(kB*temp_lower)/mtocm**3)*mrCH4[-lim_low:]*L_cm_lower/mol*mtocm**2)\n",
    "\n",
    "    # Load optical densities\n",
    "    solarradiance = np.load(f'solar_spectra/solar_spectrum_{instrument}_{band}.npy')\n",
    "    odCH4pts_lower = np.load(f'optical_densities/odCH4pts_lower_{instrument}_{band}.npy')\n",
    "    odCO2pts = np.load(f'optical_densities/odCO2pts_{instrument}_{band}.npy')\n",
    "    odCH4pts_upper = np.load(f'optical_densities/odCH4pts_upper_{instrument}_{band}.npy') \n",
    "    odH2Opts = np.load(f'optical_densities/odH2Opts_{instrument}_{band}.npy')     \n",
    "    \n",
    "    # Calculate the Top-Of-Atmosphere Spectral Radiance (TOASR) in the band [W/m2/m/sr]\n",
    "    solar_spectrum = solarradiance/np.pi * np.cos(solarangle*deg)\n",
    "    toasr = np.mean(np.exp(-(odCH4pts_lower + odCH4pts_upper + odCO2pts + odH2Opts)) * solar_spectrum)\n",
    "\n",
    "    # save toasr \n",
    "    directory_toasr = \"standard_toasr\"\n",
    "    if not os.path.exists(directory_toasr):\n",
    "        os.makedirs(directory_toasr)\n",
    "\n",
    "    np.save(os.path.join(directory_toasr, f\"solar_spectrum_{instrument}_{band}.npy\"), solarradiance)\n",
    "    np.save(f'toasr_{instrument}_{band}.npy', toasr)\n",
    "\n",
    "\n",
    "\n"
   ]
  },
  {
   "cell_type": "code",
   "execution_count": 13,
   "metadata": {},
   "outputs": [
    {
     "data": {
      "text/html": [
       "\n",
       "            <style>\n",
       "                .geemap-dark {\n",
       "                    --jp-widgets-color: white;\n",
       "                    --jp-widgets-label-color: white;\n",
       "                    --jp-ui-font-color1: white;\n",
       "                    --jp-layout-color2: #454545;\n",
       "                    background-color: #383838;\n",
       "                }\n",
       "\n",
       "                .geemap-dark .jupyter-button {\n",
       "                    --jp-layout-color3: #383838;\n",
       "                }\n",
       "\n",
       "                .geemap-colab {\n",
       "                    background-color: var(--colab-primary-surface-color, white);\n",
       "                }\n",
       "\n",
       "                .geemap-colab .jupyter-button {\n",
       "                    --jp-layout-color3: var(--colab-primary-surface-color, white);\n",
       "                }\n",
       "            </style>\n",
       "            "
      ],
      "text/plain": [
       "<IPython.core.display.HTML object>"
      ]
     },
     "metadata": {},
     "output_type": "display_data"
    }
   ],
   "source": [
    "def save_toasr(targheight, obsheight, solarangle, obsangle, instrument, band, num_layers=100):\n",
    "\n",
    "    # Import press, temp, pathlength and mixing ratios using ImportMRTP function\n",
    "    # Import pressure, temperature, path-length, and mixing ratios\n",
    "    (L_cm, press_atm, temp, mrCH4, mrCO2, mrH2O) = importMRTP(num_layers, targheight, obsheight, solarangle, obsangle)\n",
    "\n",
    "    # Calculate slant column density of methane\n",
    "    cdCH4 = np.sum((press_atm/kpatoatm/(kB*temp)/mtocm**3)*mrCH4*L_cm/mol*mtocm**2)\n",
    "\n",
    "    lim_low = 6\n",
    "    \n",
    "    press_atm_lower = press_atm[-lim_low:]\n",
    "    temp_lower = temp[-lim_low:]\n",
    "    L_cm_lower = L_cm[-lim_low:]\n",
    "    cdCH4_lower = np.sum((press_atm_lower/kpatoatm/(kB*temp_lower)/mtocm**3)*mrCH4[-lim_low:]*L_cm_lower/mol*mtocm**2)\n",
    "\n",
    "    # Load optical densities\n",
    "    solarradiance = np.load(f'solar_spectra/solar_spectrum_{instrument}_{band}.npy')\n",
    "    odCH4pts_lower = np.load(f'optical_densities/odCH4pts_lower_{instrument}_{band}.npy')\n",
    "    odCO2pts = np.load(f'optical_densities/odCO2pts_{instrument}_{band}.npy')\n",
    "    odCH4pts_upper = np.load(f'optical_densities/odCH4pts_upper_{instrument}_{band}.npy') \n",
    "    odH2Opts = np.load(f'optical_densities/odH2Opts_{instrument}_{band}.npy')     \n",
    "    \n",
    "    # Calculate the Top-Of-Atmosphere Spectral Radiance (TOASR) in the band [W/m2/m/sr]\n",
    "    solar_spectrum = solarradiance/np.pi * np.cos(solarangle*deg)\n",
    "    toasr = np.mean(np.exp(-(odCH4pts_lower + odCH4pts_upper + odCO2pts + odH2Opts)) * solar_spectrum)\n",
    "\n",
    "    # save toasr \n",
    "    # directory_toasr = \"standard_toasr\"\n",
    "    # if not os.path.exists(directory_toasr):\n",
    "          # os.makedirs(directory_toasr)\n",
    "\n",
    "    np.save(os.path.join(directory_toasr, f\"toasr_{instrument}_{band}.npy\"), toasr)\n",
    "    np.save(f'toasr_{instrument}_{band}.npy', toasr)\n"
   ]
  },
  {
   "cell_type": "code",
   "execution_count": 14,
   "metadata": {},
   "outputs": [
    {
     "data": {
      "text/html": [
       "\n",
       "            <style>\n",
       "                .geemap-dark {\n",
       "                    --jp-widgets-color: white;\n",
       "                    --jp-widgets-label-color: white;\n",
       "                    --jp-ui-font-color1: white;\n",
       "                    --jp-layout-color2: #454545;\n",
       "                    background-color: #383838;\n",
       "                }\n",
       "\n",
       "                .geemap-dark .jupyter-button {\n",
       "                    --jp-layout-color3: #383838;\n",
       "                }\n",
       "\n",
       "                .geemap-colab {\n",
       "                    background-color: var(--colab-primary-surface-color, white);\n",
       "                }\n",
       "\n",
       "                .geemap-colab .jupyter-button {\n",
       "                    --jp-layout-color3: var(--colab-primary-surface-color, white);\n",
       "                }\n",
       "            </style>\n",
       "            "
      ],
      "text/plain": [
       "<IPython.core.display.HTML object>"
      ]
     },
     "metadata": {},
     "output_type": "display_data"
    }
   ],
   "source": [
    "directory_toasr = \"standard_toasr\""
   ]
  },
  {
   "cell_type": "code",
   "execution_count": 15,
   "metadata": {},
   "outputs": [
    {
     "data": {
      "text/html": [
       "\n",
       "            <style>\n",
       "                .geemap-dark {\n",
       "                    --jp-widgets-color: white;\n",
       "                    --jp-widgets-label-color: white;\n",
       "                    --jp-ui-font-color1: white;\n",
       "                    --jp-layout-color2: #454545;\n",
       "                    background-color: #383838;\n",
       "                }\n",
       "\n",
       "                .geemap-dark .jupyter-button {\n",
       "                    --jp-layout-color3: #383838;\n",
       "                }\n",
       "\n",
       "                .geemap-colab {\n",
       "                    background-color: var(--colab-primary-surface-color, white);\n",
       "                }\n",
       "\n",
       "                .geemap-colab .jupyter-button {\n",
       "                    --jp-layout-color3: var(--colab-primary-surface-color, white);\n",
       "                }\n",
       "            </style>\n",
       "            "
      ],
      "text/plain": [
       "<IPython.core.display.HTML object>"
      ]
     },
     "metadata": {},
     "output_type": "display_data"
    },
    {
     "name": "stdout",
     "output_type": "stream",
     "text": [
      "toasr_S2A band 11 saved.\n",
      "toasr_S2A band 12 saved.\n",
      "toasr_S2B band 11 saved.\n",
      "toasr_S2B band 12 saved.\n"
     ]
    }
   ],
   "source": [
    "# Generate and save toasr for S2A and S2B bands 11 and 12\n",
    "\n",
    "instruments = ['S2A', 'S2B']\n",
    "bands = ['11', '12']\n",
    "\n",
    "for instrument in instruments:\n",
    "    for band in bands:\n",
    "        save_toasr(targheight, obsheight, solarangle, obsangle, instrument, band, num_layers=nlayers)\n",
    "        print(f'toasr_{instrument} band {band} saved.')"
   ]
  },
  {
   "cell_type": "markdown",
   "metadata": {},
   "source": [
    "### Define radiative transfer equation"
   ]
  },
  {
   "cell_type": "code",
   "execution_count": 16,
   "metadata": {},
   "outputs": [
    {
     "data": {
      "text/html": [
       "\n",
       "            <style>\n",
       "                .geemap-dark {\n",
       "                    --jp-widgets-color: white;\n",
       "                    --jp-widgets-label-color: white;\n",
       "                    --jp-ui-font-color1: white;\n",
       "                    --jp-layout-color2: #454545;\n",
       "                    background-color: #383838;\n",
       "                }\n",
       "\n",
       "                .geemap-dark .jupyter-button {\n",
       "                    --jp-layout-color3: #383838;\n",
       "                }\n",
       "\n",
       "                .geemap-colab {\n",
       "                    background-color: var(--colab-primary-surface-color, white);\n",
       "                }\n",
       "\n",
       "                .geemap-colab .jupyter-button {\n",
       "                    --jp-layout-color3: var(--colab-primary-surface-color, white);\n",
       "                }\n",
       "            </style>\n",
       "            "
      ],
      "text/plain": [
       "<IPython.core.display.HTML object>"
      ]
     },
     "metadata": {},
     "output_type": "display_data"
    }
   ],
   "source": [
    "def radtran(targheight, obsheight, solarangle, obsangle, instrument, band, num_layers=nlayers):\n",
    "\n",
    "    # Import press, temp, pathlength and mixing ratios using ImportMRTP function\n",
    "    # Import pressure, temperature, path-length, and mixing ratios\n",
    "    (L_cm, press_atm, temp, mrCH4, mrCO2, mrH2O) = importMRTP(num_layers, targheight, obsheight, solarangle, obsangle)\n",
    "\n",
    "    # Calculate slant column density of methane\n",
    "    cdCH4 = np.sum((press_atm/kpatoatm/(kB*temp)/mtocm**3)*mrCH4*L_cm/mol*mtocm**2)\n",
    "\n",
    "    lim_low = 6\n",
    "    \n",
    "    press_atm_lower = press_atm[-lim_low:]\n",
    "    temp_lower = temp[-lim_low:]\n",
    "    L_cm_lower = L_cm[-lim_low:]\n",
    "    cdCH4_lower = np.sum((press_atm_lower/kpatoatm/(kB*temp_lower)/mtocm**3)*mrCH4[-lim_low:]*L_cm_lower/mol*mtocm**2)\n",
    "\n",
    "    # Load optical densities\n",
    "    solarradiance = np.load(f'solar_spectra/solar_spectrum_{instrument}_{band}.npy')\n",
    "    odCH4pts_lower = np.load(f'optical_densities/odCH4pts_lower_{instrument}_{band}.npy')\n",
    "    odCO2pts = np.load(f'optical_densities/odCO2pts_{instrument}_{band}.npy')\n",
    "    odCH4pts_upper = np.load(f'optical_densities/odCH4pts_upper_{instrument}_{band}.npy') \n",
    "    odH2Opts = np.load(f'optical_densities/odH2Opts_{instrument}_{band}.npy')     \n",
    "    \n",
    "    # Calculate the Top-Of-Atmosphere Spectral Radiance (TOASR) in the band [W/m2/m/sr]\n",
    "    solar_spectrum = solarradiance/np.pi * np.cos(solarangle*deg)\n",
    "    toasr = np.mean(np.exp(-(odCH4pts_lower + odCH4pts_upper + odCO2pts + odH2Opts)) * solar_spectrum)\n",
    "\n",
    "    # return toasr\n",
    "    return toasr, odCH4pts_lower, odCH4pts_upper, odCO2pts, odH2Opts, solar_spectrum, cdCH4, cdCH4_lower\n",
    "\n"
   ]
  },
  {
   "cell_type": "code",
   "execution_count": 17,
   "metadata": {},
   "outputs": [
    {
     "data": {
      "text/html": [
       "\n",
       "            <style>\n",
       "                .geemap-dark {\n",
       "                    --jp-widgets-color: white;\n",
       "                    --jp-widgets-label-color: white;\n",
       "                    --jp-ui-font-color1: white;\n",
       "                    --jp-layout-color2: #454545;\n",
       "                    background-color: #383838;\n",
       "                }\n",
       "\n",
       "                .geemap-dark .jupyter-button {\n",
       "                    --jp-layout-color3: #383838;\n",
       "                }\n",
       "\n",
       "                .geemap-colab {\n",
       "                    background-color: var(--colab-primary-surface-color, white);\n",
       "                }\n",
       "\n",
       "                .geemap-colab .jupyter-button {\n",
       "                    --jp-layout-color3: var(--colab-primary-surface-color, white);\n",
       "                }\n",
       "            </style>\n",
       "            "
      ],
      "text/plain": [
       "<IPython.core.display.HTML object>"
      ]
     },
     "metadata": {},
     "output_type": "display_data"
    }
   ],
   "source": [
    "def retrieve(frac_refl_data, instrument, method, targheight, obsheight, solarangle, obsangle, num_layers=nlayers):\n",
    "    '''\n",
    "    Infer methane column enhancements from fractional reflectance measurements.\n",
    "\n",
    "    Arguments\n",
    "        frac_refl_data [float] : Array of fractional reflectance data, deltaR = (cR-R0)/R0\n",
    "                                 e.g., DeltaR_SBMP from eq. (1) in Varon et al. 2021 AMT\n",
    "        instrument     [str]   : MSI instrument. Choose 'S2A' or 'S2B'\n",
    "        method         [str]   : Retrieval method corresponding to frac_refl_data\n",
    "                                 Choose 'MBSP' or 'SBMP'\n",
    "        targheight     [float] : Target elevation above sea level in km\n",
    "        obsheight      [float] : Altitude of satellite instrument in km. Can use 100 km as if satellite were at top of atmosphere\n",
    "        solarangle     [float] : Solar zenith angle in degrees\n",
    "        obsangle       [float] : Viewing zenith angle of instrument in degrees\n",
    "        num_layers     [int]   : Number of vertical pressure layers for the radiative transfer calculation\n",
    "    '''\n",
    "\n",
    "    # Get toasr, optical depths, etc. from radtran()\n",
    "    toasr_11, odCH4_lower_11, odCH4_upper_11, odCO2_11, odH2O_11, solar_spectrum_11, _, _ = radtran(targheight, obsheight, solarangle, obsangle, instrument, band=11, num_layers=num_layers)\n",
    "    toasr_12, odCH4_lower_12, odCH4_upper_12, odCO2_12, odH2O_12, solar_spectrum_12, cdCH4, cdCH4_lower = radtran(targheight, obsheight, solarangle, obsangle, instrument, band=12, num_layers=num_layers)\n",
    "    \n",
    "    def frac_abs_MBSP_difference(ch4_enh, data):\n",
    "        '''\n",
    "        Fractional absorption model to compare with measurements for MBSP method.\n",
    "        \n",
    "        Arguments\n",
    "            ch4_enh [float] : Modeled enhancement as fraction of background\n",
    "            data    [float] : Actual (cR-R0)/R0\n",
    "        '''\n",
    "            \n",
    "        ch4 = ch4_enh + 1\n",
    "        toasr_CH4enh_12 = np.mean(np.exp(-(ch4*odCH4_lower_12 + odCH4_upper_12 + odCO2_12 + odH2O_12))*solar_spectrum_12)\n",
    "        toasr_CH4enh_11 = np.mean(np.exp(-(ch4*odCH4_lower_11 + odCH4_upper_11 + odCO2_11 + odH2O_11))*solar_spectrum_11)\n",
    "\n",
    "        frac_abs_12 = (toasr_CH4enh_12 - toasr_12)/toasr_12\n",
    "        frac_abs_11 = (toasr_CH4enh_11 - toasr_11)/toasr_11\n",
    "        \n",
    "        frac_abs_MBSP = frac_abs_12 - frac_abs_11 \n",
    "            \n",
    "        return frac_abs_MBSP - data\n",
    "\n",
    "\n",
    "     \n",
    "    start_time = time.time()\n",
    "\n",
    "    # Do retrieval\n",
    "    (num_rows, num_cols) = frac_refl_data.shape\n",
    "    ch4_out = np.zeros((num_rows, num_cols))\n",
    "\n",
    "    # add in counter\n",
    "    count = 0\n",
    "\n",
    "    for i in range(num_rows):\n",
    "        for j in range(num_cols):\n",
    "\n",
    "            data_temp = frac_refl_data[i,j]\n",
    "                \n",
    "            if np.isnan(data_temp):\n",
    "                print('Found nan, skipping.')\n",
    "                ch4_out[i,j] = np.nan\n",
    "            \n",
    "            # Solve for the best-fit fractional column (fraction of background)\n",
    "            else:\n",
    "                if method == 'SBMP':\n",
    "                    ch4_temp = scipy.optimize.newton(lambda ch4_scale: frac_abs_SBMP_difference(ch4_scale,data_temp), 0, rtol=0.0001, maxiter=10000, disp=False)\n",
    "                elif method == 'MBSP':\n",
    "                    ch4_temp = scipy.optimize.newton(lambda ch4_scale: frac_abs_MBSP_difference(ch4_scale,data_temp), 0, rtol=0.0001, maxiter=10000, disp=False)\n",
    "                    \n",
    "\n",
    "                # Convert the fractional column to absolute vertical column density in mol/m2   \n",
    "                AMF = 1/np.cos(obsangle*deg) + 1/np.cos(solarangle*deg)\n",
    "                ch4_out[i,j] = ch4_temp * (cdCH4_lower/cdCH4)*(cdCH4/AMF)\n",
    "                count = count + 1 \n",
    "        \n",
    "    # Time    \n",
    "    print(\"--- %s seconds --- to optimize\" % (time.time() - start_time))\n",
    "    print(count)\n",
    "\n",
    "    return ch4_out"
   ]
  },
  {
   "cell_type": "markdown",
   "metadata": {},
   "source": [
    "## Check linear regression scaling factor\n",
    "##### This number should be scaling B12 data so that it has the same mean radiance value across the scene as B11. Check whether this is the case"
   ]
  },
  {
   "cell_type": "markdown",
   "metadata": {},
   "source": [
    "### Load the image data"
   ]
  },
  {
   "cell_type": "code",
   "execution_count": 37,
   "metadata": {},
   "outputs": [
    {
     "data": {
      "text/html": [
       "\n",
       "            <style>\n",
       "                .geemap-dark {\n",
       "                    --jp-widgets-color: white;\n",
       "                    --jp-widgets-label-color: white;\n",
       "                    --jp-ui-font-color1: white;\n",
       "                    --jp-layout-color2: #454545;\n",
       "                    background-color: #383838;\n",
       "                }\n",
       "\n",
       "                .geemap-dark .jupyter-button {\n",
       "                    --jp-layout-color3: #383838;\n",
       "                }\n",
       "\n",
       "                .geemap-colab {\n",
       "                    background-color: var(--colab-primary-surface-color, white);\n",
       "                }\n",
       "\n",
       "                .geemap-colab .jupyter-button {\n",
       "                    --jp-layout-color3: var(--colab-primary-surface-color, white);\n",
       "                }\n",
       "            </style>\n",
       "            "
      ],
      "text/plain": [
       "<IPython.core.display.HTML object>"
      ]
     },
     "metadata": {},
     "output_type": "display_data"
    }
   ],
   "source": [
    "# Load the GEE image which contains all bands of data for pass of 20/11/2019\n",
    "img = ee.Image('COPERNICUS/S2_HARMONIZED/20191120T101321_20191120T101408_T31SGR')"
   ]
  },
  {
   "cell_type": "code",
   "execution_count": null,
   "metadata": {},
   "outputs": [
    {
     "data": {
      "text/html": [
       "\n",
       "            <style>\n",
       "                .geemap-dark {\n",
       "                    --jp-widgets-color: white;\n",
       "                    --jp-widgets-label-color: white;\n",
       "                    --jp-ui-font-color1: white;\n",
       "                    --jp-layout-color2: #454545;\n",
       "                    background-color: #383838;\n",
       "                }\n",
       "\n",
       "                .geemap-dark .jupyter-button {\n",
       "                    --jp-layout-color3: #383838;\n",
       "                }\n",
       "\n",
       "                .geemap-colab {\n",
       "                    background-color: var(--colab-primary-surface-color, white);\n",
       "                }\n",
       "\n",
       "                .geemap-colab .jupyter-button {\n",
       "                    --jp-layout-color3: var(--colab-primary-surface-color, white);\n",
       "                }\n",
       "            </style>\n",
       "            "
      ],
      "text/plain": [
       "<IPython.core.display.HTML object>"
      ]
     },
     "metadata": {},
     "output_type": "display_data"
    },
    {
     "name": "stdout",
     "output_type": "stream",
     "text": [
      "instrument is S2A\n"
     ]
    }
   ],
   "source": [
    "\n",
    "# Configure parameters for retrieval\n",
    "nlayers = 100\n",
    "targheight = 0 # elevation of target above sea level\n",
    "obsheight = 100 # elevation of satellite above sea level in km\n",
    "obsangle = img.get('MEAN_INCIDENCE_ZENITH_ANGLE_B12').getInfo() # instrument observing angle in degrees, from image meatadata\n",
    "solarangle = img.get('MEAN_SOLAR_ZENITH_ANGLE').getInfo() # solar zenith angle in degrees, from image meatadata\n",
    "method = 'MBSP' # select retrieval method\n",
    "\n",
    "# Get instrument from metadata (S2A or S2B)\n",
    "if img.get('SPACECRAFT_NAME').getInfo() == 'Sentinel-2A':\n",
    "    instrument = 'S2A'\n",
    "    print('instrument is S2A')\n",
    "elif img.get('SPACECRAFT_NAME').getInfo() == 'Sentinel-2B':\n",
    "     instrument = 'S2B'\n",
    "     print('instrument is S2B')\n",
    "else:\n",
    "    print('Instrument not recognized.')\n",
    "    "
   ]
  },
  {
   "cell_type": "code",
   "execution_count": 20,
   "metadata": {},
   "outputs": [
    {
     "data": {
      "text/html": [
       "\n",
       "            <style>\n",
       "                .geemap-dark {\n",
       "                    --jp-widgets-color: white;\n",
       "                    --jp-widgets-label-color: white;\n",
       "                    --jp-ui-font-color1: white;\n",
       "                    --jp-layout-color2: #454545;\n",
       "                    background-color: #383838;\n",
       "                }\n",
       "\n",
       "                .geemap-dark .jupyter-button {\n",
       "                    --jp-layout-color3: #383838;\n",
       "                }\n",
       "\n",
       "                .geemap-colab {\n",
       "                    background-color: var(--colab-primary-surface-color, white);\n",
       "                }\n",
       "\n",
       "                .geemap-colab .jupyter-button {\n",
       "                    --jp-layout-color3: var(--colab-primary-surface-color, white);\n",
       "                }\n",
       "            </style>\n",
       "            "
      ],
      "text/plain": [
       "<IPython.core.display.HTML object>"
      ]
     },
     "metadata": {},
     "output_type": "display_data"
    },
    {
     "name": "stdout",
     "output_type": "stream",
     "text": [
      "--- 0.006998538970947266 seconds --- to optimize\n",
      "9\n"
     ]
    },
    {
     "data": {
      "text/plain": [
       "array([[6.38803169, 2.0935019 , 7.79114561],\n",
       "       [7.79114561, 3.05169707, 6.38803169],\n",
       "       [2.70901561, 8.60737979, 7.79114561]])"
      ]
     },
     "execution_count": 20,
     "metadata": {},
     "output_type": "execute_result"
    }
   ],
   "source": [
    "\n",
    "# Test retrieval\n",
    "ch4_out = retrieve(np.array([[-0.2, -0.1, -0.22], [-0.22, -0.13, -0.2],[-0.12, -0.23, -0.22]]), instrument, method, targheight, obsheight, solarangle, obsangle, num_layers=100)\n",
    "ch4_out"
   ]
  },
  {
   "cell_type": "code",
   "execution_count": null,
   "metadata": {},
   "outputs": [],
   "source": []
  },
  {
   "cell_type": "markdown",
   "metadata": {},
   "source": [
    "### Define region of interest (roi)"
   ]
  },
  {
   "cell_type": "code",
   "execution_count": 21,
   "metadata": {},
   "outputs": [
    {
     "data": {
      "text/html": [
       "\n",
       "            <style>\n",
       "                .geemap-dark {\n",
       "                    --jp-widgets-color: white;\n",
       "                    --jp-widgets-label-color: white;\n",
       "                    --jp-ui-font-color1: white;\n",
       "                    --jp-layout-color2: #454545;\n",
       "                    background-color: #383838;\n",
       "                }\n",
       "\n",
       "                .geemap-dark .jupyter-button {\n",
       "                    --jp-layout-color3: #383838;\n",
       "                }\n",
       "\n",
       "                .geemap-colab {\n",
       "                    background-color: var(--colab-primary-surface-color, white);\n",
       "                }\n",
       "\n",
       "                .geemap-colab .jupyter-button {\n",
       "                    --jp-layout-color3: var(--colab-primary-surface-color, white);\n",
       "                }\n",
       "            </style>\n",
       "            "
      ],
      "text/plain": [
       "<IPython.core.display.HTML object>"
      ]
     },
     "metadata": {},
     "output_type": "display_data"
    }
   ],
   "source": [
    "# Define geometry as rectangle with coordinates at 2km distance from source (found using google maps)\n",
    "source_lat = 31.6585\n",
    "source_lon = 5.9053\n",
    "lonmin = 5.88419\n",
    "lonmax = 5.92609\n",
    "latmin = 31.64011\n",
    "latmax = 31.67640\n",
    "\n",
    "# Define GEE geometry shape over this area\n",
    "geometry_area = ee.Geometry.Rectangle([lonmin, latmin, lonmax, latmax], None, False)"
   ]
  },
  {
   "cell_type": "markdown",
   "metadata": {},
   "source": [
    "### Plot B12 and B11 toasr for this image over roi"
   ]
  },
  {
   "cell_type": "code",
   "execution_count": 22,
   "metadata": {},
   "outputs": [
    {
     "data": {
      "text/html": [
       "\n",
       "            <style>\n",
       "                .geemap-dark {\n",
       "                    --jp-widgets-color: white;\n",
       "                    --jp-widgets-label-color: white;\n",
       "                    --jp-ui-font-color1: white;\n",
       "                    --jp-layout-color2: #454545;\n",
       "                    background-color: #383838;\n",
       "                }\n",
       "\n",
       "                .geemap-dark .jupyter-button {\n",
       "                    --jp-layout-color3: #383838;\n",
       "                }\n",
       "\n",
       "                .geemap-colab {\n",
       "                    background-color: var(--colab-primary-surface-color, white);\n",
       "                }\n",
       "\n",
       "                .geemap-colab .jupyter-button {\n",
       "                    --jp-layout-color3: var(--colab-primary-surface-color, white);\n",
       "                }\n",
       "            </style>\n",
       "            "
      ],
      "text/plain": [
       "<IPython.core.display.HTML object>"
      ]
     },
     "metadata": {},
     "output_type": "display_data"
    },
    {
     "data": {
      "application/vnd.jupyter.widget-view+json": {
       "model_id": "f9b4263f49b74df7abcf5b8cbf363ea5",
       "version_major": 2,
       "version_minor": 0
      },
      "text/plain": [
       "Map(center=[31.6585, 5.9053], controls=(WidgetControl(options=['position', 'transparent_bg'], widget=SearchDat…"
      ]
     },
     "execution_count": 22,
     "metadata": {},
     "output_type": "execute_result"
    }
   ],
   "source": [
    "### Plot  B12 TOASR over scene\n",
    "\n",
    "B12 = img.select('B12').divide(10000).clip(geometry_area)\n",
    "# Plot only B12 to see plume as show in Varon (2021) Figure 2b\n",
    "mapB12 = geemap.Map()\n",
    "# Define visualisation parameters\n",
    "vis = {\n",
    "    'min': 0.35,\n",
    "    'max': 0.75,   \n",
    "    'bands': ['B12']\n",
    "   \n",
    "}\n",
    "\n",
    "mapB12.setCenter(source_lon, source_lat, 13.5) # Define map centre\n",
    "mapB12.addLayer(img.divide(10000), vis, 'Sentinel-2') # Add bands of Sentinel-2 data\n",
    "# Map.addLayer(geometry_area, {}, 'geometry_area') # Overlay rectangle used in Varon (2021) figure 2e\n",
    "# Map.remove_colorbar(clear)\n",
    "mapB12.add_colorbar(vis, label='TOA Refelctance')\n",
    "\n",
    "mapB12"
   ]
  },
  {
   "cell_type": "code",
   "execution_count": 23,
   "metadata": {},
   "outputs": [
    {
     "data": {
      "text/html": [
       "\n",
       "            <style>\n",
       "                .geemap-dark {\n",
       "                    --jp-widgets-color: white;\n",
       "                    --jp-widgets-label-color: white;\n",
       "                    --jp-ui-font-color1: white;\n",
       "                    --jp-layout-color2: #454545;\n",
       "                    background-color: #383838;\n",
       "                }\n",
       "\n",
       "                .geemap-dark .jupyter-button {\n",
       "                    --jp-layout-color3: #383838;\n",
       "                }\n",
       "\n",
       "                .geemap-colab {\n",
       "                    background-color: var(--colab-primary-surface-color, white);\n",
       "                }\n",
       "\n",
       "                .geemap-colab .jupyter-button {\n",
       "                    --jp-layout-color3: var(--colab-primary-surface-color, white);\n",
       "                }\n",
       "            </style>\n",
       "            "
      ],
      "text/plain": [
       "<IPython.core.display.HTML object>"
      ]
     },
     "metadata": {},
     "output_type": "display_data"
    },
    {
     "data": {
      "application/vnd.jupyter.widget-view+json": {
       "model_id": "a715412598234f52ae9dc7d7ed714801",
       "version_major": 2,
       "version_minor": 0
      },
      "text/plain": [
       "Map(center=[31.6585, 5.9053], controls=(WidgetControl(options=['position', 'transparent_bg'], widget=SearchDat…"
      ]
     },
     "execution_count": 23,
     "metadata": {},
     "output_type": "execute_result"
    }
   ],
   "source": [
    "# Plot B11\n",
    "B11 = img.select('B11').divide(10000).clip(geometry_area)   \n",
    "mapB11 = geemap.Map()\n",
    "# Define visualisation parameters\n",
    "vis = {\n",
    "    'min': 0.35,\n",
    "    'max': 0.75,   \n",
    "    'bands': ['B11']\n",
    "   \n",
    "}\n",
    "mapB11.setCenter(source_lon, source_lat, 13.5) # Define map centre\n",
    "mapB11.addLayer(img.divide(10000), vis, 'Sentinel-2') # Add bands of Sentinel-2 data\n",
    "# Map.addLayer(geometry_area, {}, 'geometry_area') # Overlay rectangle used in Varon (2021) figure 2e\n",
    "# Map.remove_colorbar(clear)\n",
    "mapB11.add_colorbar(vis, label='TOA Refelctance')\n",
    "\n",
    "mapB11"
   ]
  },
  {
   "cell_type": "markdown",
   "metadata": {},
   "source": [
    "### Get least squares fitting of B12 against B11 across the scene (Varon 2021)"
   ]
  },
  {
   "cell_type": "code",
   "execution_count": 24,
   "metadata": {},
   "outputs": [
    {
     "data": {
      "text/html": [
       "\n",
       "            <style>\n",
       "                .geemap-dark {\n",
       "                    --jp-widgets-color: white;\n",
       "                    --jp-widgets-label-color: white;\n",
       "                    --jp-ui-font-color1: white;\n",
       "                    --jp-layout-color2: #454545;\n",
       "                    background-color: #383838;\n",
       "                }\n",
       "\n",
       "                .geemap-dark .jupyter-button {\n",
       "                    --jp-layout-color3: #383838;\n",
       "                }\n",
       "\n",
       "                .geemap-colab {\n",
       "                    background-color: var(--colab-primary-surface-color, white);\n",
       "                }\n",
       "\n",
       "                .geemap-colab .jupyter-button {\n",
       "                    --jp-layout-color3: var(--colab-primary-surface-color, white);\n",
       "                }\n",
       "            </style>\n",
       "            "
      ],
      "text/plain": [
       "<IPython.core.display.HTML object>"
      ]
     },
     "metadata": {},
     "output_type": "display_data"
    },
    {
     "name": "stdout",
     "output_type": "stream",
     "text": [
      "Linear regression coefficients: 0.8682509285575256\n"
     ]
    }
   ],
   "source": [
    "# Use imRegress linearRegression to do regression of B11 and B12\n",
    "imRegress = ee.Image.cat(B11, B12)\n",
    "\n",
    "linearRegression = imRegress.reduceRegion(\n",
    "    reducer = ee.Reducer.linearRegression(numX = 1, numY = 1),\n",
    "    geometry = geometry_area,\n",
    "    scale = 20,\n",
    ")\n",
    "\n",
    "c = linearRegression.get('coefficients').getInfo()[0][0]\n",
    "print('Linear regression coefficients:', c)"
   ]
  },
  {
   "cell_type": "markdown",
   "metadata": {},
   "source": [
    "#### Plot scaled B12 against B12 and B11\n"
   ]
  },
  {
   "cell_type": "code",
   "execution_count": 25,
   "metadata": {},
   "outputs": [
    {
     "data": {
      "text/html": [
       "\n",
       "            <style>\n",
       "                .geemap-dark {\n",
       "                    --jp-widgets-color: white;\n",
       "                    --jp-widgets-label-color: white;\n",
       "                    --jp-ui-font-color1: white;\n",
       "                    --jp-layout-color2: #454545;\n",
       "                    background-color: #383838;\n",
       "                }\n",
       "\n",
       "                .geemap-dark .jupyter-button {\n",
       "                    --jp-layout-color3: #383838;\n",
       "                }\n",
       "\n",
       "                .geemap-colab {\n",
       "                    background-color: var(--colab-primary-surface-color, white);\n",
       "                }\n",
       "\n",
       "                .geemap-colab .jupyter-button {\n",
       "                    --jp-layout-color3: var(--colab-primary-surface-color, white);\n",
       "                }\n",
       "            </style>\n",
       "            "
      ],
      "text/plain": [
       "<IPython.core.display.HTML object>"
      ]
     },
     "metadata": {},
     "output_type": "display_data"
    },
    {
     "data": {
      "application/vnd.jupyter.widget-view+json": {
       "model_id": "f6b0743793ac4fa3bcbb3d2fb01785fb",
       "version_major": 2,
       "version_minor": 0
      },
      "text/plain": [
       "Map(center=[31.6585, 5.9053], controls=(WidgetControl(options=['position', 'transparent_bg'], widget=SearchDat…"
      ]
     },
     "execution_count": 25,
     "metadata": {},
     "output_type": "execute_result"
    }
   ],
   "source": [
    "### Plot scaled B12 TOASR over scene\n",
    "\n",
    "B12 = img.select('B12').divide(10000).clip(geometry_area)\n",
    "# Plot only B12 to see plume as show in Varon (2021) Figure 2b\n",
    "mapB12 = geemap.Map()\n",
    "# Define visualisation parameters\n",
    "vis = {\n",
    "    'min': 0.35,\n",
    "    'max': 0.75,   \n",
    "    'bands': ['B12']\n",
    "   \n",
    "}\n",
    "\n",
    "mapB12.setCenter(source_lon, source_lat, 13.5) # Define map centre\n",
    "mapB12.addLayer(img.divide(10000).multiply(c), vis, 'Sentinel-2') # Add bands of Sentinel-2 data\n",
    "# Map.addLayer(geometry_area, {}, 'geometry_area') # Overlay rectangle used in Varon (2021) figure 2e\n",
    "# Map.remove_colorbar(clear)\n",
    "mapB12.add_colorbar(vis, label='TOA Refelctance')\n",
    "\n",
    "mapB12"
   ]
  },
  {
   "cell_type": "code",
   "execution_count": 26,
   "metadata": {},
   "outputs": [
    {
     "data": {
      "text/html": [
       "\n",
       "            <style>\n",
       "                .geemap-dark {\n",
       "                    --jp-widgets-color: white;\n",
       "                    --jp-widgets-label-color: white;\n",
       "                    --jp-ui-font-color1: white;\n",
       "                    --jp-layout-color2: #454545;\n",
       "                    background-color: #383838;\n",
       "                }\n",
       "\n",
       "                .geemap-dark .jupyter-button {\n",
       "                    --jp-layout-color3: #383838;\n",
       "                }\n",
       "\n",
       "                .geemap-colab {\n",
       "                    background-color: var(--colab-primary-surface-color, white);\n",
       "                }\n",
       "\n",
       "                .geemap-colab .jupyter-button {\n",
       "                    --jp-layout-color3: var(--colab-primary-surface-color, white);\n",
       "                }\n",
       "            </style>\n",
       "            "
      ],
      "text/plain": [
       "<IPython.core.display.HTML object>"
      ]
     },
     "metadata": {},
     "output_type": "display_data"
    }
   ],
   "source": [
    "cB12 = B12.multiply(c)"
   ]
  },
  {
   "cell_type": "code",
   "execution_count": 27,
   "metadata": {},
   "outputs": [
    {
     "data": {
      "text/html": [
       "\n",
       "            <style>\n",
       "                .geemap-dark {\n",
       "                    --jp-widgets-color: white;\n",
       "                    --jp-widgets-label-color: white;\n",
       "                    --jp-ui-font-color1: white;\n",
       "                    --jp-layout-color2: #454545;\n",
       "                    background-color: #383838;\n",
       "                }\n",
       "\n",
       "                .geemap-dark .jupyter-button {\n",
       "                    --jp-layout-color3: #383838;\n",
       "                }\n",
       "\n",
       "                .geemap-colab {\n",
       "                    background-color: var(--colab-primary-surface-color, white);\n",
       "                }\n",
       "\n",
       "                .geemap-colab .jupyter-button {\n",
       "                    --jp-layout-color3: var(--colab-primary-surface-color, white);\n",
       "                }\n",
       "            </style>\n",
       "            "
      ],
      "text/plain": [
       "<IPython.core.display.HTML object>"
      ]
     },
     "metadata": {},
     "output_type": "display_data"
    },
    {
     "data": {
      "application/vnd.jupyter.widget-view+json": {
       "model_id": "759159a555fb4b1eba0088e5a6eaa96c",
       "version_major": 2,
       "version_minor": 0
      },
      "text/plain": [
       "Map(center=[31.6585, 5.9053], controls=(WidgetControl(options=['position', 'transparent_bg'], widget=SearchDat…"
      ]
     },
     "metadata": {},
     "output_type": "display_data"
    }
   ],
   "source": [
    "# Layer B11, B12 and cB12 on map, can select layers to view\n",
    "map_combined = geemap.Map()\n",
    "\n",
    "# Define visualization parameters for B12\n",
    "vis_params_B12 = {\n",
    "    'min': 0.35,\n",
    "    'max': 0.75,\n",
    "    'bands': ['B12']\n",
    "}\n",
    "\n",
    "# Add B12 layer\n",
    "map_combined.addLayer(B12, vis_params_B12, 'B12')\n",
    "\n",
    "# Define visualization parameters for B11\n",
    "vis_params_B11 = {\n",
    "    'min': 0.35,\n",
    "    'max': 0.75,\n",
    "    'bands': ['B11']\n",
    "}\n",
    "\n",
    "# Add B11 layer\n",
    "map_combined.addLayer(B11, vis_params_B11, 'B11')\n",
    "\n",
    "# Add scaled B12 layer\n",
    "map_combined.addLayer(cB12, vis_params_B12, 'Scaled B12')\n",
    "\n",
    "# Set map center and zoom level\n",
    "map_combined.setCenter(source_lon, source_lat, 13.5)\n",
    "\n",
    "# Display the map\n",
    "map_combined\n",
    "map_combined.addLayerControl()\n",
    "display(map_combined)"
   ]
  },
  {
   "cell_type": "markdown",
   "metadata": {},
   "source": [
    "### Do the same for c calculated the other way (c = 1.15) - THIS WORKS"
   ]
  },
  {
   "cell_type": "code",
   "execution_count": 28,
   "metadata": {},
   "outputs": [
    {
     "data": {
      "text/html": [
       "\n",
       "            <style>\n",
       "                .geemap-dark {\n",
       "                    --jp-widgets-color: white;\n",
       "                    --jp-widgets-label-color: white;\n",
       "                    --jp-ui-font-color1: white;\n",
       "                    --jp-layout-color2: #454545;\n",
       "                    background-color: #383838;\n",
       "                }\n",
       "\n",
       "                .geemap-dark .jupyter-button {\n",
       "                    --jp-layout-color3: #383838;\n",
       "                }\n",
       "\n",
       "                .geemap-colab {\n",
       "                    background-color: var(--colab-primary-surface-color, white);\n",
       "                }\n",
       "\n",
       "                .geemap-colab .jupyter-button {\n",
       "                    --jp-layout-color3: var(--colab-primary-surface-color, white);\n",
       "                }\n",
       "            </style>\n",
       "            "
      ],
      "text/plain": [
       "<IPython.core.display.HTML object>"
      ]
     },
     "metadata": {},
     "output_type": "display_data"
    },
    {
     "name": "stdout",
     "output_type": "stream",
     "text": [
      "Linear regression coefficients: 1.1512279743749336\n"
     ]
    }
   ],
   "source": [
    "# Use imRegress linearRegression to do regression of B11 and B12\n",
    "imRegress = ee.Image.cat(B12, B11)\n",
    "\n",
    "linearRegression = imRegress.reduceRegion(\n",
    "    reducer = ee.Reducer.linearRegression(numX = 1, numY = 1),\n",
    "    geometry = geometry_area,\n",
    "    scale = 20,\n",
    ")\n",
    "\n",
    "c = linearRegression.get('coefficients').getInfo()[0][0]\n",
    "print('Linear regression coefficients:', c)"
   ]
  },
  {
   "cell_type": "code",
   "execution_count": 29,
   "metadata": {},
   "outputs": [
    {
     "data": {
      "text/html": [
       "\n",
       "            <style>\n",
       "                .geemap-dark {\n",
       "                    --jp-widgets-color: white;\n",
       "                    --jp-widgets-label-color: white;\n",
       "                    --jp-ui-font-color1: white;\n",
       "                    --jp-layout-color2: #454545;\n",
       "                    background-color: #383838;\n",
       "                }\n",
       "\n",
       "                .geemap-dark .jupyter-button {\n",
       "                    --jp-layout-color3: #383838;\n",
       "                }\n",
       "\n",
       "                .geemap-colab {\n",
       "                    background-color: var(--colab-primary-surface-color, white);\n",
       "                }\n",
       "\n",
       "                .geemap-colab .jupyter-button {\n",
       "                    --jp-layout-color3: var(--colab-primary-surface-color, white);\n",
       "                }\n",
       "            </style>\n",
       "            "
      ],
      "text/plain": [
       "<IPython.core.display.HTML object>"
      ]
     },
     "metadata": {},
     "output_type": "display_data"
    }
   ],
   "source": [
    "cB12 = B12.multiply(c)"
   ]
  },
  {
   "cell_type": "code",
   "execution_count": 30,
   "metadata": {},
   "outputs": [
    {
     "data": {
      "text/html": [
       "\n",
       "            <style>\n",
       "                .geemap-dark {\n",
       "                    --jp-widgets-color: white;\n",
       "                    --jp-widgets-label-color: white;\n",
       "                    --jp-ui-font-color1: white;\n",
       "                    --jp-layout-color2: #454545;\n",
       "                    background-color: #383838;\n",
       "                }\n",
       "\n",
       "                .geemap-dark .jupyter-button {\n",
       "                    --jp-layout-color3: #383838;\n",
       "                }\n",
       "\n",
       "                .geemap-colab {\n",
       "                    background-color: var(--colab-primary-surface-color, white);\n",
       "                }\n",
       "\n",
       "                .geemap-colab .jupyter-button {\n",
       "                    --jp-layout-color3: var(--colab-primary-surface-color, white);\n",
       "                }\n",
       "            </style>\n",
       "            "
      ],
      "text/plain": [
       "<IPython.core.display.HTML object>"
      ]
     },
     "metadata": {},
     "output_type": "display_data"
    },
    {
     "data": {
      "application/vnd.jupyter.widget-view+json": {
       "model_id": "9b19c0a836d9405db7d3db03fbc57a10",
       "version_major": 2,
       "version_minor": 0
      },
      "text/plain": [
       "Map(center=[31.6585, 5.9053], controls=(WidgetControl(options=['position', 'transparent_bg'], widget=SearchDat…"
      ]
     },
     "metadata": {},
     "output_type": "display_data"
    }
   ],
   "source": [
    "# Layer B11, B12 and cB12 on map, can select layers to view\n",
    "map_combined = geemap.Map()\n",
    "\n",
    "# Define visualization parameters for B12\n",
    "vis_params_B12 = {\n",
    "    'min': 0.35,\n",
    "    'max': 0.75,\n",
    "    'bands': ['B12']\n",
    "}\n",
    "\n",
    "# Add B12 layer\n",
    "map_combined.addLayer(B12, vis_params_B12, 'B12')\n",
    "\n",
    "# Define visualization parameters for B11\n",
    "vis_params_B11 = {\n",
    "    'min': 0.35,\n",
    "    'max': 0.75,\n",
    "    'bands': ['B11']\n",
    "}\n",
    "\n",
    "# Add B11 layer\n",
    "map_combined.addLayer(B11, vis_params_B11, 'B11')\n",
    "\n",
    "# Add scaled B12 layer\n",
    "map_combined.addLayer(cB12, vis_params_B12, 'Scaled B12')\n",
    "\n",
    "# Set map center and zoom level\n",
    "map_combined.setCenter(source_lon, source_lat, 13.5)\n",
    "\n",
    "# Display the map\n",
    "map_combined\n",
    "map_combined.addLayerControl()\n",
    "display(map_combined)"
   ]
  },
  {
   "cell_type": "code",
   "execution_count": null,
   "metadata": {},
   "outputs": [],
   "source": []
  },
  {
   "cell_type": "markdown",
   "metadata": {},
   "source": [
    "### scatter plot B12 against B11"
   ]
  },
  {
   "cell_type": "code",
   "execution_count": 31,
   "metadata": {},
   "outputs": [
    {
     "data": {
      "text/html": [
       "\n",
       "            <style>\n",
       "                .geemap-dark {\n",
       "                    --jp-widgets-color: white;\n",
       "                    --jp-widgets-label-color: white;\n",
       "                    --jp-ui-font-color1: white;\n",
       "                    --jp-layout-color2: #454545;\n",
       "                    background-color: #383838;\n",
       "                }\n",
       "\n",
       "                .geemap-dark .jupyter-button {\n",
       "                    --jp-layout-color3: #383838;\n",
       "                }\n",
       "\n",
       "                .geemap-colab {\n",
       "                    background-color: var(--colab-primary-surface-color, white);\n",
       "                }\n",
       "\n",
       "                .geemap-colab .jupyter-button {\n",
       "                    --jp-layout-color3: var(--colab-primary-surface-color, white);\n",
       "                }\n",
       "            </style>\n",
       "            "
      ],
      "text/plain": [
       "<IPython.core.display.HTML object>"
      ]
     },
     "metadata": {},
     "output_type": "display_data"
    },
    {
     "name": "stdout",
     "output_type": "stream",
     "text": [
      "[0.54119998 0.5345     0.53509998 ... 0.49529999 0.4948     0.49680001]\n",
      "[0.6038     0.59609997 0.5977     ... 0.58450001 0.58340001 0.5862    ]\n"
     ]
    }
   ],
   "source": [
    "# Get B12 and B11 data from images to numpy arrays\n",
    "\n",
    "# Define the region of interest (roi)\n",
    "roi = geometry_area\n",
    "\n",
    "# Get the B12 band values as a list of dictionaries\n",
    "b12_values_list = B12.reduceRegion(\n",
    "    reducer=ee.Reducer.toList(),\n",
    "    geometry=roi,\n",
    "    scale=20\n",
    ").get('B12').getInfo()\n",
    "\n",
    "# Convert the list to a NumPy array\n",
    "b12_values_array = np.array(b12_values_list)\n",
    "\n",
    "print(b12_values_array)\n",
    "\n",
    "# Get the B11 band values as a list of dictionaries\n",
    "b11_values_list = B11.reduceRegion(\n",
    "    reducer=ee.Reducer.toList(),\n",
    "    geometry=roi,\n",
    "    scale=20\n",
    ").get('B11').getInfo()\n",
    "\n",
    "# Convert the list to a NumPy array\n",
    "b11_values_array = np.array(b11_values_list)\n",
    "\n",
    "print(b11_values_array)"
   ]
  },
  {
   "cell_type": "code",
   "execution_count": 32,
   "metadata": {},
   "outputs": [
    {
     "data": {
      "text/html": [
       "\n",
       "            <style>\n",
       "                .geemap-dark {\n",
       "                    --jp-widgets-color: white;\n",
       "                    --jp-widgets-label-color: white;\n",
       "                    --jp-ui-font-color1: white;\n",
       "                    --jp-layout-color2: #454545;\n",
       "                    background-color: #383838;\n",
       "                }\n",
       "\n",
       "                .geemap-dark .jupyter-button {\n",
       "                    --jp-layout-color3: #383838;\n",
       "                }\n",
       "\n",
       "                .geemap-colab {\n",
       "                    background-color: var(--colab-primary-surface-color, white);\n",
       "                }\n",
       "\n",
       "                .geemap-colab .jupyter-button {\n",
       "                    --jp-layout-color3: var(--colab-primary-surface-color, white);\n",
       "                }\n",
       "            </style>\n",
       "            "
      ],
      "text/plain": [
       "<IPython.core.display.HTML object>"
      ]
     },
     "metadata": {},
     "output_type": "display_data"
    },
    {
     "data": {
      "image/png": "[encoded data removed]",
      "text/plain": [
       "<Figure size 1000x600 with 1 Axes>"
      ]
     },
     "metadata": {},
     "output_type": "display_data"
    }
   ],
   "source": [
    "# Create scatter plot\n",
    "plt.figure(figsize=(10, 6))\n",
    "plt.scatter(b11_values_array, b12_values_array, alpha=0.5, edgecolors='w', linewidth=0.5)\n",
    "plt.xlabel('B11 Radiance')\n",
    "plt.ylabel('B12 Radiance')\n",
    "plt.title('Scatter Plot of B12 vs B11 Radiance Values')\n",
    "plt.grid(True)\n",
    "plt.show()"
   ]
  },
  {
   "cell_type": "markdown",
   "metadata": {},
   "source": [
    "## Check whether changing c from 0.86 to 1.15 gets the correct retrieval result"
   ]
  },
  {
   "cell_type": "code",
   "execution_count": 33,
   "metadata": {},
   "outputs": [
    {
     "data": {
      "text/html": [
       "\n",
       "            <style>\n",
       "                .geemap-dark {\n",
       "                    --jp-widgets-color: white;\n",
       "                    --jp-widgets-label-color: white;\n",
       "                    --jp-ui-font-color1: white;\n",
       "                    --jp-layout-color2: #454545;\n",
       "                    background-color: #383838;\n",
       "                }\n",
       "\n",
       "                .geemap-dark .jupyter-button {\n",
       "                    --jp-layout-color3: #383838;\n",
       "                }\n",
       "\n",
       "                .geemap-colab {\n",
       "                    background-color: var(--colab-primary-surface-color, white);\n",
       "                }\n",
       "\n",
       "                .geemap-colab .jupyter-button {\n",
       "                    --jp-layout-color3: var(--colab-primary-surface-color, white);\n",
       "                }\n",
       "            </style>\n",
       "            "
      ],
      "text/plain": [
       "<IPython.core.display.HTML object>"
      ]
     },
     "metadata": {},
     "output_type": "display_data"
    }
   ],
   "source": [
    "# Use image.expression() to write equation for R_MBSP\n",
    "R_MBSP = img.expression(\n",
    "    '(((c*R12) - R11))/(R11) ', # Where this number comes from least squares difference scale above\n",
    "    {\n",
    "        \n",
    "        # 'c': linearRegression.get('coefficients').getInfo()[0],\n",
    "        'c': c, \n",
    "        'R11': img.select('B11').divide(10000),\n",
    "        'R12': img.select('B12').divide(10000),\n",
    "    },\n",
    ")\n",
    "\n",
    "# Methane column enhancement in ppm\n",
    "# F_MBSP = R_MBSP.subtract(-0.029)\n",
    "F_MBSP = R_MBSP\n",
    "\n",
    "F_MBSP_array = np.array(F_MBSP.sampleRectangle(geometry_area).get('constant').getInfo())"
   ]
  },
  {
   "cell_type": "code",
   "execution_count": 34,
   "metadata": {},
   "outputs": [
    {
     "data": {
      "text/html": [
       "\n",
       "            <style>\n",
       "                .geemap-dark {\n",
       "                    --jp-widgets-color: white;\n",
       "                    --jp-widgets-label-color: white;\n",
       "                    --jp-ui-font-color1: white;\n",
       "                    --jp-layout-color2: #454545;\n",
       "                    background-color: #383838;\n",
       "                }\n",
       "\n",
       "                .geemap-dark .jupyter-button {\n",
       "                    --jp-layout-color3: #383838;\n",
       "                }\n",
       "\n",
       "                .geemap-colab {\n",
       "                    background-color: var(--colab-primary-surface-color, white);\n",
       "                }\n",
       "\n",
       "                .geemap-colab .jupyter-button {\n",
       "                    --jp-layout-color3: var(--colab-primary-surface-color, white);\n",
       "                }\n",
       "            </style>\n",
       "            "
      ],
      "text/plain": [
       "<IPython.core.display.HTML object>"
      ]
     },
     "metadata": {},
     "output_type": "display_data"
    },
    {
     "name": "stdout",
     "output_type": "stream",
     "text": [
      "--- 17.399238109588623 seconds --- to optimize\n",
      "42640\n"
     ]
    },
    {
     "data": {
      "text/plain": [
       "array([[-0.10235906, -0.07344855, -0.10304366, ..., -0.10712428,\n",
       "        -0.0302958 , -0.0732964 ],\n",
       "       [ 0.02068364, -0.03550533, -0.11934089, ...,  0.05628551,\n",
       "        -0.09738845, -0.03907811],\n",
       "       [-0.03296966, -0.11418207, -0.01183375, ...,  0.12185087,\n",
       "         0.04893532,  0.02796768],\n",
       "       ...,\n",
       "       [-0.03535918,  0.01932386,  0.08555912, ..., -0.06119116,\n",
       "        -0.10594596, -0.00654024],\n",
       "       [-0.02866815, -0.02014293,  0.01968059, ...,  0.08969418,\n",
       "         0.15535039, -0.04500909],\n",
       "       [ 0.02984741, -0.01729327, -0.00235232, ...,  0.02688544,\n",
       "        -0.15896473, -0.19640843]])"
      ]
     },
     "execution_count": 34,
     "metadata": {},
     "output_type": "execute_result"
    }
   ],
   "source": [
    "# Do retrieval\n",
    "\n",
    "ch4_enh = retrieve(F_MBSP_array, 'S2A', method, targheight, obsheight, solarangle, obsangle, num_layers=200)\n",
    "ch4_enh"
   ]
  },
  {
   "cell_type": "code",
   "execution_count": 35,
   "metadata": {},
   "outputs": [
    {
     "data": {
      "text/html": [
       "\n",
       "            <style>\n",
       "                .geemap-dark {\n",
       "                    --jp-widgets-color: white;\n",
       "                    --jp-widgets-label-color: white;\n",
       "                    --jp-ui-font-color1: white;\n",
       "                    --jp-layout-color2: #454545;\n",
       "                    background-color: #383838;\n",
       "                }\n",
       "\n",
       "                .geemap-dark .jupyter-button {\n",
       "                    --jp-layout-color3: #383838;\n",
       "                }\n",
       "\n",
       "                .geemap-colab {\n",
       "                    background-color: var(--colab-primary-surface-color, white);\n",
       "                }\n",
       "\n",
       "                .geemap-colab .jupyter-button {\n",
       "                    --jp-layout-color3: var(--colab-primary-surface-color, white);\n",
       "                }\n",
       "            </style>\n",
       "            "
      ],
      "text/plain": [
       "<IPython.core.display.HTML object>"
      ]
     },
     "metadata": {},
     "output_type": "display_data"
    },
    {
     "data": {
      "image/png": "[encoded data removed]",
      "text/plain": [
       "<Figure size 640x480 with 2 Axes>"
      ]
     },
     "metadata": {},
     "output_type": "display_data"
    }
   ],
   "source": [
    "# Plot map of methane enhancement\n",
    "\n",
    "import matplotlib.pyplot as plt\n",
    "\n",
    "plt.imshow(ch4_enh, cmap='viridis')\n",
    "\n",
    "plt.title('Enhanced CH4 2D Image Plot')\n",
    "import matplotlib.pyplot as plt\n",
    "\n",
    "# plt.imshow(ch4_enh, cmap='viridis',vmin =  -2, vmax= 2)\n",
    "# plt.imshow(ch4_enh, cmap='viridis')\n",
    "fig1 = plt.imshow(ch4_enh, cmap='viridis') #vmin = minval, vmax = maxval)\n",
    "plt.colorbar(label='Enhanced CH4 (mol/m2)')\n",
    "plt.title(f'MBSP CH4 Enhancement 20/11/2019, no. layers = {nlayers}')\n",
    "plt.xticks([])\n",
    "plt.yticks([])\n",
    "plt.show()"
   ]
  }
 ],
 "metadata": {
  "kernelspec": {
   "display_name": "nav_env",
   "language": "python",
   "name": "python3"
  },
  "language_info": {
   "codemirror_mode": {
    "name": "ipython",
    "version": 3
   },
   "file_extension": ".py",
   "mimetype": "text/x-python",
   "name": "python",
   "nbconvert_exporter": "python",
   "pygments_lexer": "ipython3",
   "version": "3.9.19"
  }
 },
 "nbformat": 4,
 "nbformat_minor": 2
}
