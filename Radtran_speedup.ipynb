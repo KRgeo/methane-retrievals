{
 "cells": [
  {
   "cell_type": "code",
   "execution_count": 1,
   "metadata": {},
   "outputs": [
    {
     "data": {
      "text/plain": [
       "'\\nKalyani Ramanan 19/06/2024\\nSpeeding up Radtran.py script (from GHGSat) by isolating cross-section interpolation and writing interpolated files to.npy files\\n'"
      ]
     },
     "execution_count": 1,
     "metadata": {},
     "output_type": "execute_result"
    }
   ],
   "source": [
    "'''\n",
    "Kalyani Ramanan 19/06/2024\n",
    "Speeding up Radtran.py script (from GHGSat) by isolating cross-section interpolation and writing interpolated files to.npy files\n",
    "'''"
   ]
  },
  {
   "cell_type": "markdown",
   "metadata": {},
   "source": [
    "#### Import libraries, set up global variables, define key directory paths"
   ]
  },
  {
   "cell_type": "code",
   "execution_count": 31,
   "metadata": {},
   "outputs": [],
   "source": [
    "import numpy as np\n",
    "import matplotlib.pyplot as plt\n",
    "import time\n",
    "import scipy\n",
    "from scipy import optimize\n",
    "from scipy import interpolate\n",
    "import os"
   ]
  },
  {
   "cell_type": "code",
   "execution_count": 4,
   "metadata": {},
   "outputs": [],
   "source": [
    "# Global variables\n",
    "c = 299792458.\n",
    "kB = 1.38064852e-23\n",
    "deg = np.pi/180\n",
    "mbartoatm = 0.000986923\n",
    "kpatoatm = 0.00986923/1000.\n",
    "kmtocm = 1E5\n",
    "mtocm = 100.\n",
    "mol=6.022140857E23\n",
    "start_time = time.time()\n",
    "\n",
    "# Key directories\n",
    "aux_data_dir = 'aux_data'\n",
    "hapi_data_dir = 'hapi_data'"
   ]
  },
  {
   "cell_type": "markdown",
   "metadata": {},
   "source": [
    "### Defining functions"
   ]
  },
  {
   "cell_type": "markdown",
   "metadata": {},
   "source": [
    "#### Import mixing ratios, temp, press profiles"
   ]
  },
  {
   "cell_type": "code",
   "execution_count": 7,
   "metadata": {},
   "outputs": [],
   "source": [
    "def importMRTP(num_layers, targheight, obsheight, solarangle, obsangle, ch4_scale=1.1029, co2_scale=1.2424, h2o_scale=1):\n",
    "    '''\n",
    "    Load auxiliary data for vertical profiles of temperature, pressure, and CH4, CO2, and H2O mixing ratio.\n",
    "    These data come from the U.S. Standard Atmosphere. \n",
    "    Also calculate the pathlength in each layer for input observation angles.\n",
    "    CH4 and CO2 profiles need to be scaled up to match modern-day concentrations.\n",
    "\n",
    "    Arguments\n",
    "        num_layers [int]   : Number of vertical pressure layers for the radiative transfer calculation\n",
    "        targheight [float] : Target elevation above sea level in km\n",
    "        obsheight  [float] : Altitude of satellite instrument in km. Can use 100 km as if satellite were at top of atmosphere\n",
    "        solarangle [float] : Solar zenith angle in degrees\n",
    "        obsangle   [float] : Viewing zenith angle of instrument in degrees\n",
    "        ch4_scale  [float] : Scale factor multiplying U.S. Standard CH4 profile (1.1029 implies 1875 ppb at the surface)\n",
    "        co2_scale  [float] : Same but for U.S. Standard CO2 profile (1.2424 implies 410 ppm at the surface)\n",
    "        h2o_scale  [float] : Same but for U.S. Standard H2O profile\n",
    "\n",
    "    Returns\n",
    "        pathlength [float] : Path length in each layer [cm]\n",
    "        pressavg   [float] : Average pressure in each layer [atm]\n",
    "        tempavg    [float] : Average temperature in each layer [K]\n",
    "        mrCH4avg   [float] : Average CH4 mixing ratio in each layer\n",
    "        mrCO2avg   [float] : Average CO2 mixing ratio in each layer\n",
    "        mrH2Oavg   [float] : Average H2O mixing ratio in each layer\n",
    "    ''' \n",
    "        \n",
    "    # Mixing Ratio\n",
    "    mrCH4 = np.transpose(np.genfromtxt(f'{aux_data_dir}/ch4.dat'))\n",
    "    mrCO2 = np.transpose(np.genfromtxt(f'{aux_data_dir}/co2.dat'))\n",
    "    mrH2O = np.transpose(np.genfromtxt(f'{aux_data_dir}/h2o.dat'))\n",
    "    \n",
    "    # Temperature\n",
    "    temp = np.transpose(np.genfromtxt(f'{aux_data_dir}/temperature.dat'))\n",
    "    \n",
    "    # Pressure\n",
    "    press = np.transpose(np.genfromtxt(f'{aux_data_dir}/pressure.dat'))\n",
    "    \n",
    "    # Define altitude in cm\n",
    "    altitude = press[1][::-1] * kmtocm\n",
    "    # Define pressure in atm\n",
    "    pressure = press[0][::-1] * mbartoatm\n",
    "    \n",
    "    # Find pressure as a function of altitude\n",
    "    altfine = np.arange(0, 10, 0.01)\n",
    "    pressfine = np.interp(altfine, press[1], press[0]*mbartoatm)\n",
    "    idfine = (np.abs(altfine-targheight)).argmin()\n",
    "    pressmax = pressfine[idfine]    \n",
    "    \n",
    "    # Interpolate to get layers evenly spaced in pressure\n",
    "    dpress = (pressmax-2.9608E-5)/num_layers\n",
    "    pressinterp = np.arange(0, pressmax+dpress, dpress)\n",
    "    altinterp = np.interp(pressinterp, pressure, altitude)\n",
    "\n",
    "    # Find temperature at each altitude\n",
    "    alttemp = temp[1]*kmtocm\n",
    "    temperature = temp[0]\n",
    "    tempinterp = np.interp(altinterp, alttemp, temperature)\n",
    "    \n",
    "    # Find mixing ratios at each altitude\n",
    "    altmrCH4 = mrCH4[1]*kmtocm\n",
    "    altmrCO2 = mrCO2[1]*kmtocm\n",
    "    altmrH2O = mrH2O[1]*kmtocm\n",
    "    mixrateCH4 = mrCH4[0]*ch4_scale\n",
    "    mixrateCO2 = mrCO2[0]*co2_scale\n",
    "    mixrateH2O = mrH2O[0]*h2o_scale\n",
    "    \n",
    "    # Interpolate and then sample using the altitude sample points determined from isobaric pressure increases\n",
    "    mrCH4interp = np.interp(altinterp, altmrCH4, mixrateCH4)\n",
    "    mrCO2interp = np.interp(altinterp, altmrCO2, mixrateCO2)\n",
    "    mrH2Ointerp = np.interp(altinterp, altmrH2O, mixrateH2O)\n",
    "    \n",
    "    def find_nearest_alt(array,value):\n",
    "        idx = (np.abs(array-value)).argmin()\n",
    "        secondpass = array[idx:len(array)]\n",
    "        zeroarray = np.zeros(idx)\n",
    "        upwellingpass = np.concatenate((zeroarray, secondpass))\n",
    "        return upwellingpass\n",
    "    \n",
    "    upwellingpass = find_nearest_alt(altinterp, obsheight*kmtocm)\n",
    "    \n",
    "    # Find path length of each layer\n",
    "    pathlengthdown = np.zeros(num_layers)\n",
    "    pathlengthup = np.zeros(num_layers)\n",
    "    for i in range(0, num_layers):\n",
    "        pathlengthdown[i] = np.absolute(altinterp[i]-altinterp[i+1])\n",
    "        pathlengthup[i] = np.absolute(upwellingpass[i]-upwellingpass[i+1])\n",
    "        \n",
    "    # Calculate path given the Solar and observation angle from Nadir\n",
    "    pathlength = pathlengthdown/np.cos(solarangle*deg) + pathlengthup/np.cos(obsangle*deg)\n",
    " \n",
    "    # Define average value in layers\n",
    "    pressavg = np.zeros(len(pathlength))\n",
    "    tempavg = np.zeros(len(pathlength))\n",
    "    mrCH4avg = np.zeros(len(pathlength))\n",
    "    mrCO2avg = np.zeros(len(pathlength))\n",
    "    mrH2Oavg = np.zeros(len(pathlength))   \n",
    "    for i in range(0,len(pathlength)):\n",
    "        pressavg[i] = (pressinterp[i+1]+pressinterp[i])/2.\n",
    "        tempavg[i] = (tempinterp[i+1]+tempinterp[i])/2.\n",
    "        mrCH4avg[i] = (mrCH4interp[i+1]+mrCH4interp[i])/2.\n",
    "        mrCO2avg[i] = (mrCO2interp[i+1]+mrCO2interp[i])/2.\n",
    "        mrH2Oavg[i] = (mrH2Ointerp[i+1]+mrH2Ointerp[i])/2.\n",
    "\n",
    "    return pathlength, pressavg, tempavg, mrCH4avg, mrCO2avg, mrH2Oavg"
   ]
  },
  {
   "cell_type": "markdown",
   "metadata": {},
   "source": [
    "#### Define function for forward modelling (radtran)"
   ]
  },
  {
   "cell_type": "code",
   "execution_count": null,
   "metadata": {},
   "outputs": [],
   "source": []
  },
  {
   "cell_type": "markdown",
   "metadata": {},
   "source": [
    "#### Define retrieval function which finds least difference value of ch4 conc\n"
   ]
  },
  {
   "cell_type": "code",
   "execution_count": 8,
   "metadata": {},
   "outputs": [],
   "source": [
    "def retrieve(frac_refl_data, instrument, method, targheight, obsheight, solarangle, obsangle, num_layers=100):\n",
    "    '''\n",
    "    Infer methane column enhancements from fractional reflectance measurements.\n",
    "\n",
    "    Arguments\n",
    "        frac_refl_data [float] : Array of fractional reflectance data, deltaR = (cR-R0)/R0\n",
    "                                 e.g., DeltaR_SBMP from eq. (1) in Varon et al. 2021 AMT\n",
    "        instrument     [str]   : MSI instrument. Choose 'S2A' or 'S2B'\n",
    "        method         [str]   : Retrieval method corresponding to frac_refl_data\n",
    "                                 Choose 'MBSP' or 'SBMP'\n",
    "        targheight     [float] : Target elevation above sea level in km\n",
    "        obsheight      [float] : Altitude of satellite instrument in km. Can use 100 km as if satellite were at top of atmosphere\n",
    "        solarangle     [float] : Solar zenith angle in degrees\n",
    "        obsangle       [float] : Viewing zenith angle of instrument in degrees\n",
    "        num_layers     [int]   : Number of vertical pressure layers for the radiative transfer calculation\n",
    "    '''\n",
    "\n",
    "    # Choose method\n",
    "    if method == 'SBMP':\n",
    "        \n",
    "        # Get toasr, optical depths, etc. from radtran()\n",
    "        toasr_12, odCH4_lower_12, odCH4_upper_12, odCO2_12, odH2O_12, solar_spectrum_12, cdCH4, cdCH4_lower = radtran(targheight, obsheight, solarangle, obsangle, instrument, band=12, num_layers=100)\n",
    "\n",
    "        def frac_abs_SBMP_difference(ch4_enh, data): \n",
    "            '''\n",
    "            Fractional absorption model to compare with measurements for SBMP method.\n",
    "            \n",
    "            Arguments\n",
    "                ch4_enh [float] : Modeled enhancement as fraction of background\n",
    "                data    [float] : Actual (cR-R0)/R0\n",
    "            '''\n",
    "                \n",
    "            ch4 = ch4_enh + 1\n",
    "            toasr_CH4enh_12 = np.mean(np.exp(-(ch4*odCH4_lower_12 + odCH4_upper_12 + odCO2_12 + odH2O_12))*solar_spectrum_12)\n",
    "            frac_abs_SBMP = (toasr_CH4enh_12 - toasr_12)/toasr_12\n",
    "            \n",
    "            return frac_abs_SBMP - data\n",
    "    \n",
    "    elif method == 'MBSP':\n",
    "\n",
    "        # Get toasr, optical depths, etc. from radtran()\n",
    "        toasr_11, odCH4_lower_11, odCH4_upper_11, odCO2_11, odH2O_11, solar_spectrum_11, _, _ = radtran(targheight, obsheight, solarangle, obsangle, instrument, band=11, num_layers=num_layers)\n",
    "        toasr_12, odCH4_lower_12, odCH4_upper_12, odCO2_12, odH2O_12, solar_spectrum_12, cdCH4, cdCH4_lower = radtran(targheight, obsheight, solarangle, obsangle, instrument, band=12, num_layers=num_layers)\n",
    "        \n",
    "        def frac_abs_MBSP_difference(ch4_enh, data):\n",
    "            '''\n",
    "            Fractional absorption model to compare with measurements for MBSP method.\n",
    "            \n",
    "            Arguments\n",
    "                ch4_enh [float] : Modeled enhancement as fraction of background\n",
    "                data    [float] : Actual (cR-R0)/R0\n",
    "            '''\n",
    "                \n",
    "            ch4 = ch4_enh + 1\n",
    "            toasr_CH4enh_12 = np.mean(np.exp(-(ch4*odCH4_lower_12 + odCH4_upper_12 + odCO2_12 + odH2O_12))*solar_spectrum_12)\n",
    "            toasr_CH4enh_11 = np.mean(np.exp(-(ch4*odCH4_lower_11 + odCH4_upper_11 + odCO2_11 + odH2O_11))*solar_spectrum_11)\n",
    "\n",
    "            frac_abs_12 = (toasr_CH4enh_12 - toasr_12)/toasr_12\n",
    "            frac_abs_11 = (toasr_CH4enh_11 - toasr_11)/toasr_11\n",
    "            \n",
    "            frac_abs_MBSP = frac_abs_12 - frac_abs_11 \n",
    "                \n",
    "            return frac_abs_MBSP - data\n",
    "\n",
    "    else:\n",
    "        raise ValueError('Bad method selection. Must be \"MBSP\" or \"SBMP\".')\n",
    "     \n",
    "    start_time = time.time()\n",
    "\n",
    "    # Do retrieval\n",
    "    (num_rows, num_cols) = frac_refl_data.shape\n",
    "    ch4_out = np.zeros((num_rows, num_cols))\n",
    "\n",
    "    # add in counter\n",
    "    count = 0\n",
    "\n",
    "    for i in range(num_rows):\n",
    "        for j in range(num_cols):\n",
    "\n",
    "            data_temp = frac_refl_data[i,j]\n",
    "                \n",
    "            if np.isnan(data_temp):\n",
    "                print('Found nan, skipping.')\n",
    "                ch4_out[i,j] = np.nan\n",
    "            \n",
    "            # Solve for the best-fit fractional column (fraction of background)\n",
    "            else:\n",
    "                if method == 'SBMP':\n",
    "                    ch4_temp = scipy.optimize.newton(lambda ch4_scale: frac_abs_SBMP_difference(ch4_scale,data_temp), 0, rtol=0.0001, maxiter=10000, disp=False)\n",
    "                elif method == 'MBSP':\n",
    "                    ch4_temp = scipy.optimize.newton(lambda ch4_scale: frac_abs_MBSP_difference(ch4_scale,data_temp), 0, rtol=0.0001, maxiter=10000, disp=False)\n",
    "                    \n",
    "\n",
    "                # Convert the fractional column to absolute vertical column density in mol/m2   \n",
    "                AMF = 1/np.cos(obsangle*deg) + 1/np.cos(solarangle*deg)\n",
    "                ch4_out[i,j] = ch4_temp * (cdCH4_lower/cdCH4)*(cdCH4/AMF)\n",
    "                count = count + 1 \n",
    "        \n",
    "    # Time    \n",
    "    print(\"--- %s seconds --- to optimize\" % (time.time() - start_time))\n",
    "    print(count)\n",
    "\n",
    "    return ch4_out"
   ]
  },
  {
   "cell_type": "code",
   "execution_count": null,
   "metadata": {},
   "outputs": [],
   "source": []
  },
  {
   "cell_type": "code",
   "execution_count": null,
   "metadata": {},
   "outputs": [],
   "source": []
  },
  {
   "cell_type": "markdown",
   "metadata": {},
   "source": [
    "#### Do interpolation from radtran() out of function and write interpolated files to .npy files"
   ]
  },
  {
   "cell_type": "code",
   "execution_count": 22,
   "metadata": {},
   "outputs": [],
   "source": [
    "# Configuration\n",
    "num_layers = 100\n",
    "targheight = 0\n",
    "obsheight = 100\n",
    "solarangle = 40\n",
    "obsangle = 0\n",
    "instrument = 'S2A'\n",
    "method = 'MBSP'"
   ]
  },
  {
   "cell_type": "code",
   "execution_count": null,
   "metadata": {},
   "outputs": [],
   "source": [
    "# Get solar spectrum\n",
    "solarspec = np.transpose(np.genfromtxt(f'{aux_data_dir}/SUNp01_4000_to_7000.txt'))\n",
    "wavesolar = 1E7/solarspec[0][::-1]\n",
    "radiancesolar = solarspec[1][::-1]*(100*solarspec[0][::-1]**2)\n",
    "solarradiance = np.interp(wavelength,wavesolar,radiancesolar)\n"
   ]
  },
  {
   "cell_type": "code",
   "execution_count": 23,
   "metadata": {},
   "outputs": [],
   "source": [
    "# Import press, temp, pathlength and mixing ratios using ImportMRTP function\n",
    "(L_cm, press_atm, temp, mrCH4, mrCO2, mrH2O) = importMRTP(num_layers, targheight, obsheight, solarangle, obsangle)\n",
    "    \n"
   ]
  },
  {
   "cell_type": "code",
   "execution_count": 42,
   "metadata": {},
   "outputs": [],
   "source": [
    "# Calculate and save optical densities\n",
    "\n",
    "def save_optical_densities(instrument, band):\n",
    "\n",
    "    # Load absorption cross-sections for S2A band 12\n",
    "\n",
    "    wavelength = np.load(f'{hapi_data_dir}/abs_wave_hapi_{instrument}_band{band}.npy')\n",
    "    press_load = np.load(f'{hapi_data_dir}/abs_press_hapi_{instrument}_band{band}.npy')\n",
    "    temp_load = np.load(f'{hapi_data_dir}/abs_temp_hapi_{instrument}_band{band}.npy')   \n",
    "    absCH4_load  = np.load(f'{hapi_data_dir}/abs_ch4_hapi_{instrument}_band{band}.npy')\n",
    "    absCO2_load = np.load(f'{hapi_data_dir}/abs_co2_hapi_{instrument}_band{band}.npy')\n",
    "    absH2O_load = np.load(f'{hapi_data_dir}/abs_h2o_hapi_{instrument}_band{band}.npy')\n",
    "    num_wave = len(wavelength)\n",
    "\n",
    "    # Calculate optical density\n",
    "    odCH4pts_upper = np.zeros(num_wave)\n",
    "    odCH4pts_lower = np.zeros(num_wave)\n",
    "    odCO2pts = np.zeros(num_wave)\n",
    "    odH2Opts = np.zeros(num_wave)\n",
    "\n",
    "    interp_order = 3\n",
    "\n",
    "    for i in range(num_wave):\n",
    "\n",
    "        fCH4_tp = scipy.interpolate.RectBivariateSpline(temp_load, press_load, absCH4_load.T[i], kx=interp_order, ky=interp_order)\n",
    "        fCO2_tp = scipy.interpolate.RectBivariateSpline(temp_load, press_load, absCO2_load.T[i], kx=interp_order, ky=interp_order)\n",
    "        fH2O_tp = scipy.interpolate.RectBivariateSpline(temp_load, press_load, absH2O_load.T[i], kx=interp_order, ky=interp_order)\n",
    "        \n",
    "        for j in range(num_layers):\n",
    "\n",
    "            # Calculate density\n",
    "            temperature_K = temp[j]\n",
    "            pressure_atm = press_atm[j]\n",
    "            pressure_Pa = pressure_atm*101325\n",
    "            density_m3 = pressure_Pa/(kB*temperature_K)\n",
    "            density_cm3 = density_m3/(1E6)\n",
    "\n",
    "            # Evaluate interpolation function\n",
    "            f_CH4_temp = fCH4_tp(temperature_K, pressure_atm)\n",
    "            f_CO2_temp = fCO2_tp(temperature_K, pressure_atm)\n",
    "            f_H2O_temp = fH2O_tp(temperature_K, pressure_atm)\n",
    "                        \n",
    "            # Calculate the (unit-less) optical density: OD = abs*n*MR*L\n",
    "            lim_low = 6\n",
    "            if j >= num_layers - lim_low:\n",
    "                # Lowest 6 pressure layers = lowest 500 m of atmosphere (lower)\n",
    "                odCH4pts_lower[i] = odCH4pts_lower[i] + f_CH4_temp*density_cm3*mrCH4[j]*L_cm[j]\n",
    "            else:\n",
    "                # The rest of the atmosphere (upper)\n",
    "                odCH4pts_upper[i] = odCH4pts_upper[i] + f_CH4_temp*density_cm3*mrCH4[j]*L_cm[j]\n",
    "            odCO2pts[i] = odCO2pts[i] + f_CO2_temp*density_cm3*mrCO2[j]*L_cm[j]\n",
    "            odH2Opts[i] = odH2Opts[i] + f_H2O_temp*density_cm3*mrH2O[j]*L_cm[j]\n",
    "\n",
    "\n",
    "    # Save optical densities\n",
    "    \n",
    "    # Create the directory if it doesn't exist\n",
    "    directory = \"optical_densities\"\n",
    "    if not os.path.exists(directory):\n",
    "        os.makedirs(directory)\n",
    "\n",
    "    # Save the variables to  .npy files\n",
    "    np.save(os.path.join(directory, f\"odCH4pts_upper_{instrument}_{band}.npy\"), odCH4pts_upper)\n",
    "    np.save(os.path.join(directory, f\"odCH4pts_lower_{instrument}_{band}.npy\"), odCH4pts_lower)\n",
    "    np.save(os.path.join(directory, f\"odH2Opts_{instrument}_{band}.npy\"), odH2Opts)\n",
    "    np.save(os.path.join(directory, f\"odCO2pts_{instrument}_{band}.npy\"), odCO2pts)"
   ]
  },
  {
   "cell_type": "code",
   "execution_count": 47,
   "metadata": {},
   "outputs": [],
   "source": [
    "# Generate and save optical densities for S2A and S2B bands 11 and 12\n",
    "\n",
    "instruments = ['S2A', 'S2B']\n",
    "bands = ['11', '12']\n",
    "\n",
    "# Don't run if files have already been saved\n",
    "if not os.path.exists('optical_densities/odCH4pts_upper_S2A_12.npy'):\n",
    "    \n",
    "    for instrument in instruments:\n",
    "        for band in bands:\n",
    "            save_optical_densities(instrument, band)\n"
   ]
  },
  {
   "cell_type": "code",
   "execution_count": 48,
   "metadata": {},
   "outputs": [],
   "source": [
    "# The non interpolation part of radtran\n",
    "\n",
    "# Calculate slant column density of methane\n",
    "cdCH4 = np.sum((press_atm/kpatoatm/(kB*temp)/mtocm**3)*mrCH4*L_cm/mol*mtocm**2)\n",
    "\n",
    "press_atm_lower = press_atm[-lim_low:]\n",
    "temp_lower = temp[-lim_low:]\n",
    "L_cm_lower = L_cm[-lim_low:]\n",
    "cdCH4_lower = np.sum((press_atm_lower/kpatoatm/(kB*temp_lower)/mtocm**3)*mrCH4[-lim_low:]*L_cm_lower/mol*mtocm**2)\n",
    "\n",
    "# Calculate the Top-Of-Atmosphere Spectral Radiance (TOASR) in the band [W/m2/m/sr]\n",
    "solar_spectrum = solarradiance/np.pi * np.cos(solarangle*deg)\n",
    "toasr = np.mean(np.exp(-(odCH4pts_lower + odCH4pts_upper + odCO2pts + odH2Opts)) * solar_spectrum)"
   ]
  },
  {
   "cell_type": "code",
   "execution_count": 52,
   "metadata": {},
   "outputs": [],
   "source": [
    "\n",
    "def radtran(targheight, obsheight, solarangle, obsangle, instrument, band, num_layers=100):\n",
    "\n",
    "    #first large part of function is rewritten to save the optical densities to files (above)\n",
    "\n",
    "    # Calculate slant column density of methane\n",
    "    cdCH4 = np.sum((press_atm/kpatoatm/(kB*temp)/mtocm**3)*mrCH4*L_cm/mol*mtocm**2)\n",
    "\n",
    "    press_atm_lower = press_atm[-lim_low:]\n",
    "    temp_lower = temp[-lim_low:]\n",
    "    L_cm_lower = L_cm[-lim_low:]\n",
    "    cdCH4_lower = np.sum((press_atm_lower/kpatoatm/(kB*temp_lower)/mtocm**3)*mrCH4[-lim_low:]*L_cm_lower/mol*mtocm**2)\n",
    "\n",
    "    # Calculate the Top-Of-Atmosphere Spectral Radiance (TOASR) in the band [W/m2/m/sr]\n",
    "    solar_spectrum = solarradiance/np.pi * np.cos(solarangle*deg)\n",
    "    toasr = np.mean(np.exp(-(odCH4pts_lower + odCH4pts_upper + odCO2pts + odH2Opts)) * solar_spectrum)\n",
    "\n",
    "\n",
    "\n",
    "    # return the values\n",
    "    return toasr, odCH4pts_lower, odCH4pts_upper, odCO2pts, odH2Opts, solar_spectrum, cdCH4, cdCH4_lower\n",
    "\n"
   ]
  },
  {
   "cell_type": "code",
   "execution_count": 53,
   "metadata": {},
   "outputs": [
    {
     "name": "stdout",
     "output_type": "stream",
     "text": [
      "--- 0.003998994827270508 seconds --- to optimize\n",
      "1\n"
     ]
    },
    {
     "name": "stderr",
     "output_type": "stream",
     "text": [
      "C:\\Users\\s1709837\\AppData\\Local\\Temp\\ipykernel_6088\\63822892.py:91: RuntimeWarning: Tolerance of 0.0001 reached.\n",
      "  ch4_temp = scipy.optimize.newton(lambda ch4_scale: frac_abs_MBSP_difference(ch4_scale,data_temp), 0, rtol=0.0001, maxiter=10000, disp=False)\n"
     ]
    }
   ],
   "source": [
    "ch4_out = retrieve(np.array([[-0.2, -0.1, -0.3], [-0.4, -0.13, -0.2],[-0.12, -0.23, -0.3]]), instrument, method, targheight, obsheight, solarangle, obsangle, num_layers=100)"
   ]
  },
  {
   "cell_type": "code",
   "execution_count": 54,
   "metadata": {},
   "outputs": [
    {
     "data": {
      "text/plain": [
       "array([[2.05813031e-06]])"
      ]
     },
     "execution_count": 54,
     "metadata": {},
     "output_type": "execute_result"
    }
   ],
   "source": [
    "ch4_out"
   ]
  },
  {
   "cell_type": "code",
   "execution_count": null,
   "metadata": {},
   "outputs": [],
   "source": []
  }
 ],
 "metadata": {
  "kernelspec": {
   "display_name": "gee",
   "language": "python",
   "name": "python3"
  },
  "language_info": {
   "codemirror_mode": {
    "name": "ipython",
    "version": 3
   },
   "file_extension": ".py",
   "mimetype": "text/x-python",
   "name": "python",
   "nbconvert_exporter": "python",
   "pygments_lexer": "ipython3",
   "version": "3.12.1"
  }
 },
 "nbformat": 4,
 "nbformat_minor": 2
}
