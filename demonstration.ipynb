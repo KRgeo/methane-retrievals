{
 "cells": [
  {
   "cell_type": "markdown",
   "metadata": {},
   "source": [
    "# Toy retrieval example"
   ]
  },
  {
   "cell_type": "code",
   "execution_count": 2,
   "metadata": {},
   "outputs": [
    {
     "name": "stdout",
     "output_type": "stream",
     "text": [
      "Note: you may need to restart the kernel to use updated packages.\n"
     ]
    },
    {
     "name": "stderr",
     "output_type": "stream",
     "text": [
      "ERROR: Could not find a version that satisfies the requirement setup (from versions: none)\n",
      "ERROR: No matching distribution found for setup\n"
     ]
    }
   ],
   "source": [
    "%pip install setup"
   ]
  },
  {
   "cell_type": "code",
   "execution_count": 2,
   "metadata": {},
   "outputs": [
    {
     "name": "stdout",
     "output_type": "stream",
     "text": [
      "HAPI version: 1.1.1.0\n",
      "To get the most up-to-date version please check http://hitran.org/hapi\n",
      "ATTENTION: Python versions of partition sums from TIPS-2017 are now available in HAPI code\n",
      "\n",
      "           It is free to use HAPI. If you use HAPI in your research or software development,\n",
      "           please cite it using the following reference:\n",
      "           R.V. Kochanov, I.E. Gordon, L.S. Rothman, P. Wcislo, C. Hill, J.S. Wilzewski,\n",
      "           HITRAN Application Programming Interface (HAPI): A comprehensive approach\n",
      "           to working with spectroscopic data, J. Quant. Spectrosc. Radiat. Transfer 177, 15-30 (2016)\n",
      "           DOI: 10.1016/j.jqsrt.2016.03.005\n"
     ]
    }
   ],
   "source": [
    "import numpy as np\n",
    "import setup\n",
    "import radtran as rt"
   ]
  },
  {
   "cell_type": "code",
   "execution_count": 3,
   "metadata": {},
   "outputs": [],
   "source": [
    "# Set to True if you need to setup your data directory\n",
    "run_setup = False\n",
    "\n",
    "if run_setup:\n",
    "    setup.setup_retrieval_directory('S2A','hapi_data')"
   ]
  },
  {
   "cell_type": "code",
   "execution_count": null,
   "metadata": {},
   "outputs": [],
   "source": [
    "# Configuration\n",
    "num_layers = 100\n",
    "targheight = 0\n",
    "obsheight = 100\n",
    "solarangle = 50\n",
    "obsangle = 10\n",
    "instrument = 'S2A'\n",
    "method = 'MBSP'\n"
   ]
  },
  {
   "cell_type": "code",
   "execution_count": 13,
   "metadata": {},
   "outputs": [
    {
     "name": "stdout",
     "output_type": "stream",
     "text": [
      "Creating the transmission spectrum...\n",
      "--- 45.26704406738281 seconds --- to interpolate\n",
      "--- 102.45811486244202 seconds --- to run radtran()\n",
      "--- 0.0 seconds --- to optimize\n",
      "4\n"
     ]
    }
   ],
   "source": [
    "\n",
    "# Invented 2D array of fractional reflectance data\n",
    "frac_refl_data = np.array([[-0.15,0],[0,-0.2]])\n",
    "\n",
    "# Try the column retrieval\n",
    "test_retrieval = rt.retrieve(frac_refl_data, instrument, method, targheight, obsheight, solarangle, obsangle, num_layers=num_layers)"
   ]
  },
  {
   "cell_type": "code",
   "execution_count": 14,
   "metadata": {},
   "outputs": [
    {
     "data": {
      "text/plain": [
       "array([[2.97896173, 0.        ],\n",
       "       [0.        , 4.61956701]])"
      ]
     },
     "execution_count": 14,
     "metadata": {},
     "output_type": "execute_result"
    }
   ],
   "source": [
    "test_retrieval # units mol/m2"
   ]
  },
  {
   "cell_type": "markdown",
   "metadata": {},
   "source": [
    "---"
   ]
  }
 ],
 "metadata": {
  "kernelspec": {
   "display_name": "Python 3 (ipykernel)",
   "language": "python",
   "name": "python3"
  },
  "language_info": {
   "codemirror_mode": {
    "name": "ipython",
    "version": 3
   },
   "file_extension": ".py",
   "mimetype": "text/x-python",
   "name": "python",
   "nbconvert_exporter": "python",
   "pygments_lexer": "ipython3",
   "version": "3.12.1"
  }
 },
 "nbformat": 4,
 "nbformat_minor": 4
}
