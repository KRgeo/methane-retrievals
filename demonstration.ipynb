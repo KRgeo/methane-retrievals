{
 "cells": [
  {
   "cell_type": "markdown",
   "metadata": {},
   "source": [
    "# Toy retrieval example"
   ]
  },
  {
   "cell_type": "code",
   "execution_count": 2,
   "metadata": {},
   "outputs": [
    {
     "name": "stdout",
     "output_type": "stream",
     "text": [
      "Note: you may need to restart the kernel to use updated packages.\n"
     ]
    },
    {
     "name": "stderr",
     "output_type": "stream",
     "text": [
      "ERROR: Could not find a version that satisfies the requirement setup (from versions: none)\n",
      "ERROR: No matching distribution found for setup\n"
     ]
    }
   ],
   "source": [
    "%pip install setup"
   ]
  },
  {
   "cell_type": "code",
   "execution_count": 3,
   "metadata": {},
   "outputs": [],
   "source": [
    "import numpy as np\n",
    "import setup\n",
    "import radtran as rt"
   ]
  },
  {
   "cell_type": "code",
   "execution_count": null,
   "metadata": {},
   "outputs": [],
   "source": [
    "# Set to True if you need to setup your data directory\n",
    "run_setup = False\n",
    "\n",
    "if run_setup:\n",
    "    setup.setup_retrieval_directory('S2A','hapi_data')"
   ]
  },
  {
   "cell_type": "code",
   "execution_count": 7,
   "metadata": {},
   "outputs": [
    {
     "name": "stdout",
     "output_type": "stream",
     "text": [
      "Creating the transmission spectrum...\n",
      "--- 43.36691188812256 seconds --- to run radtran()\n",
      "--- 0.004000425338745117 seconds --- to optimize\n"
     ]
    }
   ],
   "source": [
    "# Configuration\n",
    "num_layers = 100\n",
    "targheight = 0\n",
    "obsheight = 100\n",
    "solarangle = 40\n",
    "obsangle = 0\n",
    "instrument = 'S2A'\n",
    "method = 'SBMP'\n",
    "\n",
    "# Invented 2D array of fractional reflectance data\n",
    "frac_refl_data = np.array([[-0.035,0],[0,-0.029]])\n",
    "\n",
    "# Try the column retrieval\n",
    "test_retrieval = rt.retrieve(frac_refl_data, instrument, method, targheight, obsheight, solarangle, obsangle, num_layers=num_layers)"
   ]
  },
  {
   "cell_type": "code",
   "execution_count": 8,
   "metadata": {},
   "outputs": [
    {
     "data": {
      "text/plain": [
       "array([[0.55039017, 0.        ],\n",
       "       [0.        , 0.44858987]])"
      ]
     },
     "execution_count": 8,
     "metadata": {},
     "output_type": "execute_result"
    }
   ],
   "source": [
    "test_retrieval # units mol/m2"
   ]
  },
  {
   "cell_type": "markdown",
   "metadata": {},
   "source": [
    "---"
   ]
  }
 ],
 "metadata": {
  "kernelspec": {
   "display_name": "Python 3 (ipykernel)",
   "language": "python",
   "name": "python3"
  },
  "language_info": {
   "codemirror_mode": {
    "name": "ipython",
    "version": 3
   },
   "file_extension": ".py",
   "mimetype": "text/x-python",
   "name": "python",
   "nbconvert_exporter": "python",
   "pygments_lexer": "ipython3",
   "version": "3.12.1"
  }
 },
 "nbformat": 4,
 "nbformat_minor": 4
}
